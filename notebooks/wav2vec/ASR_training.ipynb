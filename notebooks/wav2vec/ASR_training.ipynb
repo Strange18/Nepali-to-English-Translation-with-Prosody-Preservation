{
  "cells": [
    {
      "cell_type": "code",
      "execution_count": null,
      "metadata": {
        "colab": {
          "base_uri": "https://localhost:8080/"
        },
        "id": "j1txlzz4jmFO",
        "outputId": "7e1cb9f1-6d4e-47f0-9d0e-7043faa94fd8",
        "tags": []
      },
      "outputs": [],
      "source": [
        "# !gdown https://drive.google.com/uc?id=1LRO9eSJazJ9WDjjuOu2gcUh07FNwsE8I"
      ]
    },
    {
      "cell_type": "code",
      "execution_count": null,
      "metadata": {
        "colab": {
          "base_uri": "https://localhost:8080/"
        },
        "id": "7Oe-SZhBS3jz",
        "outputId": "68eb9dc0-1c1e-4eb3-c062-38ec56668d91"
      },
      "outputs": [],
      "source": [
        "# !unzip checkpoint-8000.zip"
      ]
    },
    {
      "cell_type": "code",
      "execution_count": null,
      "metadata": {
        "id": "YHX0VA01oYHL"
      },
      "outputs": [],
      "source": [
        "# fileid = '1XbQCdf2piJYSgEmxcRBXCDr_ZDykSr9W'"
      ]
    },
    {
      "cell_type": "code",
      "execution_count": null,
      "metadata": {
        "id": "R0B7b6IuoUrX"
      },
      "outputs": [],
      "source": [
        "# !gdown --id fileid -O data.zip"
      ]
    },
    {
      "cell_type": "markdown",
      "metadata": {
        "id": "jBJLVfjv6O9O"
      },
      "source": [
        "# Downloading the Dataset. gdown makes it easier to download data when data is in google drive\n"
      ]
    },
    {
      "cell_type": "code",
      "execution_count": null,
      "metadata": {
        "colab": {
          "base_uri": "https://localhost:8080/"
        },
        "id": "GAmwaRz7GDJW",
        "outputId": "24391798-4b79-46aa-fdff-0232a15e65b5",
        "tags": []
      },
      "outputs": [],
      "source": [
        "# downloading the files in the runtime\n",
        "!gdown https://drive.google.com/uc?id=1l-kq6-KGOt4mG3OvfamzkotMjRheP2Sh"
      ]
    },
    {
      "cell_type": "code",
      "execution_count": null,
      "metadata": {
        "colab": {
          "base_uri": "https://localhost:8080/"
        },
        "id": "_1MSZlhiy_UD",
        "outputId": "c17dce30-382a-4398-d0fe-a98eff65f083"
      },
      "outputs": [],
      "source": [
        "!rm -r dataset/"
      ]
    },
    {
      "cell_type": "markdown",
      "metadata": {
        "id": "gVkqILli6b9h"
      },
      "source": [
        "### Unzipping the file"
      ]
    },
    {
      "cell_type": "code",
      "execution_count": null,
      "metadata": {
        "colab": {
          "base_uri": "https://localhost:8080/"
        },
        "id": "Ur91_xu4GEtT",
        "outputId": "17f9462f-c3ca-494f-c3bd-b915e5e9b96d",
        "tags": []
      },
      "outputs": [],
      "source": [
        "!unzip dataset.zip -d dataset/"
      ]
    },
    {
      "cell_type": "markdown",
      "metadata": {
        "id": "aQBFEr3T6hFl"
      },
      "source": [
        "# Installing Necessary Packages"
      ]
    },
    {
      "cell_type": "code",
      "execution_count": null,
      "metadata": {
        "id": "2pWUbzeWGPMT",
        "tags": []
      },
      "outputs": [],
      "source": [
        "# installing necessary pacakges\n",
        "!pip install datasets\n",
        "!pip install accelerate -U\n",
        "!pip install transformers[torch]\n",
        "!pip install jiwer\n",
        "!pip install transformers==4.42.3\n",
        "!pip install tensorboard\n",
        "!pip install torch torchvision torchaudio\n"
      ]
    },
    {
      "cell_type": "markdown",
      "metadata": {
        "id": "HJx3JcLS6l_U"
      },
      "source": [
        "# Importing All the Packages"
      ]
    },
    {
      "cell_type": "code",
      "execution_count": null,
      "metadata": {
        "id": "5X3yqk4zGAei",
        "tags": []
      },
      "outputs": [],
      "source": [
        "# importing necessary pacakges\n",
        "import pandas as pd\n",
        "import torchaudio\n",
        "from datasets import load_dataset, Dataset\n",
        "from transformers import Wav2Vec2Processor, Wav2Vec2ForCTC, TrainingArguments, Trainer\n",
        "import numpy as np\n",
        "import torch"
      ]
    },
    {
      "cell_type": "markdown",
      "metadata": {
        "id": "gsh6Cczu6phG"
      },
      "source": [
        "# Changing the Path Based on the path according to the location of the drive."
      ]
    },
    {
      "cell_type": "code",
      "execution_count": null,
      "metadata": {
        "id": "Ze2bfEzEGAeq",
        "tags": []
      },
      "outputs": [],
      "source": [
        "# laoding CSV file that contains relative path and Transcriptions\n",
        "csv_file_path = '/content/dataset/dataset_detail.csv'\n",
        "df = pd.read_csv(csv_file_path)\n",
        "\n",
        "df = df.loc[:, ~df.columns.str.contains('^Unnamed')]\n",
        "\n",
        "# dropping null values\n",
        "df = df.dropna(subset=['Transcriptions'])\n",
        "\n",
        "# changing relative path to absolute path\n",
        "directory_path = \"/content/dataset/\"\n",
        "\n"
      ]
    },
    {
      "cell_type": "code",
      "execution_count": null,
      "metadata": {
        "id": "osCLPfR526fC"
      },
      "outputs": [],
      "source": []
    },
    {
      "cell_type": "code",
      "execution_count": null,
      "metadata": {
        "id": "igpjgW5Y3TWi"
      },
      "outputs": [],
      "source": [
        "to_remove = ['01f71cec1d.wav',\n",
        " '01fbdfe8ca.wav',\n",
        " '04ae522dfc.wav',\n",
        " '051c4e3e24.wav',\n",
        " '057c3d0e25.wav',\n",
        " '05a5716243.wav',\n",
        " '08323d719c.wav',\n",
        " '10387db7e0.wav',\n",
        " '12259dcba4.wav',\n",
        " '136bc20fe4.wav',\n",
        " '139b690b70.wav',\n",
        " '151fb2a8e4.wav',\n",
        " '15afdea887.wav',\n",
        " '15eec3a40a.wav',\n",
        " '15fe8ea284.wav',\n",
        " '1847a4298a.wav',\n",
        " '1b7145cdf5.wav',\n",
        " '1bb3be4e96.wav',\n",
        " '1c0975c58d.wav',\n",
        " '1c1a59b5f3.wav',\n",
        " '1c455ae232.wav',\n",
        " '1c687a5c26.wav',\n",
        " '1d17425ea4.wav',\n",
        " '1e812de253.wav',\n",
        " '1f5d72d3b5.wav',\n",
        " '1fc01decd0.wav',\n",
        " '2282ffca23.wav',\n",
        " '22c94b7e72.wav',\n",
        " '25187ac404.wav',\n",
        " '296d0cb877.wav',\n",
        " '2a072732e1.wav',\n",
        " '2b224b6039.wav',\n",
        " '2ebbb58188.wav',\n",
        " '2f129fb2e8.wav',\n",
        " '2f576e2987.wav',\n",
        " '2f590de05c.wav',\n",
        " '32913511ce.wav',\n",
        " '337b4e94ac.wav',\n",
        " '33a693fff1.wav',\n",
        " '343d6de904.wav',\n",
        " '347c7b330e.wav',\n",
        " '36620057c1.wav',\n",
        " '3ba92920d8.wav',\n",
        " '3c7458aa2d.wav',\n",
        " '3cc1d55bd9.wav',\n",
        " '3df39d8d40.wav',\n",
        " '3f05d05549.wav',\n",
        " '3ff9557310.wav',\n",
        " '426c2599ae.wav',\n",
        " '4405236e0f.wav',\n",
        " '4515570fb0.wav',\n",
        " '45497ed527.wav',\n",
        " '4556010d4c.wav',\n",
        " '4593271b99.wav',\n",
        " '4783c4bd88.wav',\n",
        " '49ed390b25.wav',\n",
        " '4c68fc3fd0.wav',\n",
        " '4d01514a53.wav',\n",
        " '4d4df321a9.wav',\n",
        " '4ef2053f92.wav',\n",
        " '4f2721693c.wav']"
      ]
    },
    {
      "cell_type": "code",
      "execution_count": null,
      "metadata": {
        "id": "Fu2W2BXv3dgw"
      },
      "outputs": [],
      "source": [
        "df = df[~df['Audio'].isin(to_remove)]"
      ]
    },
    {
      "cell_type": "code",
      "execution_count": null,
      "metadata": {
        "colab": {
          "base_uri": "https://localhost:8080/"
        },
        "id": "_NumZyOvNm6Q",
        "outputId": "b206ee90-7b10-443a-8496-f185b70a77bc"
      },
      "outputs": [],
      "source": [
        "df['Audio'] = df['Audio'].apply(lambda x: directory_path + x)"
      ]
    },
    {
      "cell_type": "code",
      "execution_count": null,
      "metadata": {
        "colab": {
          "base_uri": "https://localhost:8080/",
          "height": 53
        },
        "id": "4qG-W-fE4jEC",
        "outputId": "92d13533-d74c-492b-9cfa-da340084261c"
      },
      "outputs": [],
      "source": [
        "df[df['Audio'] == '/content/dataset/01f71cec1d.wav']"
      ]
    },
    {
      "cell_type": "markdown",
      "metadata": {
        "id": "ZELmqwHR64jc"
      },
      "source": [
        "# Creating the dataset object from the dataframe"
      ]
    },
    {
      "cell_type": "code",
      "execution_count": null,
      "metadata": {
        "colab": {
          "base_uri": "https://localhost:8080/"
        },
        "id": "bu_a4TJHGAes",
        "outputId": "030e553d-765a-4034-be88-0a84cf075daa",
        "tags": []
      },
      "outputs": [],
      "source": [
        "# creating a dataset object\n",
        "dataset = Dataset.from_pandas(df.iloc[17000:21000])\n",
        "dataset"
      ]
    },
    {
      "cell_type": "markdown",
      "metadata": {
        "id": "Z5MYlJZk7DbG"
      },
      "source": [
        "# Creating the Vocabulary"
      ]
    },
    {
      "cell_type": "code",
      "execution_count": null,
      "metadata": {
        "colab": {
          "base_uri": "https://localhost:8080/",
          "height": 49,
          "referenced_widgets": [
            "5e2feeb3f97b44d692766297b7380651",
            "3822196ab651491087caba6e46c65e23",
            "77ad3b735efb4587b987da0d3779a16a",
            "86593e3fc8ed4568bf5983b07c0e5e49",
            "ae67067fa66c42bd9103b273bd2d599a",
            "8202535913e74abe83306e5b8a551c82",
            "1541f99c97e04dbd8a252bb0d5b81667",
            "8ad0e803a9b3417d8abd024461d6c8be",
            "5941b4c4ae9c413897f45d5f4f9d4597",
            "20fa9ce631d14d4582c5551684d211b8",
            "02075feaedcc4d0a9a328123d3d9fa05"
          ]
        },
        "id": "UDeOyR7NjmFW",
        "outputId": "588d7653-14a9-4ea0-eb67-693b18ca7b78",
        "tags": []
      },
      "outputs": [],
      "source": [
        "def extract_all_chars(batch):\n",
        "    all_text = \" \".join(batch[\"Transcriptions\"])\n",
        "    vocab = list(set(all_text))\n",
        "    return {\"vocab\": [vocab]}\n",
        "\n",
        "vocab_all = dataset.map(extract_all_chars, batched=True,\n",
        "                        batch_size=-1, keep_in_memory=True,\n",
        "                        remove_columns=dataset.column_names)\n"
      ]
    },
    {
      "cell_type": "code",
      "execution_count": null,
      "metadata": {
        "colab": {
          "base_uri": "https://localhost:8080/"
        },
        "id": "Jg9m44wTjmFX",
        "outputId": "cc47e467-aa09-4284-8f61-eb6ecf8344e6",
        "tags": []
      },
      "outputs": [],
      "source": [
        "vocab_all"
      ]
    },
    {
      "cell_type": "code",
      "execution_count": null,
      "metadata": {
        "id": "8x5BV2rDjmFX",
        "tags": []
      },
      "outputs": [],
      "source": [
        "vocab_list = sorted(list(set(vocab_all[\"vocab\"][0])))"
      ]
    },
    {
      "cell_type": "code",
      "execution_count": null,
      "metadata": {
        "colab": {
          "base_uri": "https://localhost:8080/"
        },
        "id": "sJlMcDdmjmFY",
        "outputId": "2c505197-0d7f-4ab7-a1ff-f2fdc5b5c952",
        "tags": []
      },
      "outputs": [],
      "source": [
        "vocab_list"
      ]
    },
    {
      "cell_type": "code",
      "execution_count": null,
      "metadata": {
        "id": "tP1jx4UtjmFY",
        "tags": []
      },
      "outputs": [],
      "source": [
        "# adding unknown and padding tokens -> needed when unknown characters is encounterd.\n",
        "# -> Padding token is added to make the length equal.\n",
        "\n",
        "UNK_TOKEN = '__UNK__'\n",
        "PAD_TOKEN = '__PAD__'\n",
        "\n",
        "vocab_list = [PAD_TOKEN, UNK_TOKEN, *vocab_list]"
      ]
    },
    {
      "cell_type": "code",
      "execution_count": null,
      "metadata": {
        "colab": {
          "base_uri": "https://localhost:8080/",
          "height": 91
        },
        "id": "aGVZsTrUjmFZ",
        "outputId": "fd2078d5-674d-4091-a1c4-ec21df55f193",
        "tags": []
      },
      "outputs": [],
      "source": [
        "vocab_dict = {v: k for k, v in enumerate(vocab_list)}\n",
        "\n",
        "# for printing vocab in single line\n",
        "', '.join([f\"{k}: {v}\" for k, v in (vocab_dict.items())])"
      ]
    },
    {
      "cell_type": "code",
      "execution_count": null,
      "metadata": {
        "colab": {
          "base_uri": "https://localhost:8080/"
        },
        "id": "g1qxKEmHjmFZ",
        "outputId": "011140e0-7c93-4a40-a48b-79eacb9d08fe",
        "tags": []
      },
      "outputs": [],
      "source": [
        "WORD_DELIMITER = '|'\n",
        "\n",
        "vocab_dict[WORD_DELIMITER] = vocab_dict[\" \"]\n",
        "del vocab_dict[\" \"]\n",
        "len(vocab_dict)\n"
      ]
    },
    {
      "cell_type": "code",
      "execution_count": null,
      "metadata": {
        "id": "mIWNr8sdjmFZ",
        "tags": []
      },
      "outputs": [],
      "source": [
        "import json\n",
        "with open('vocab.json', 'w') as vocab_file:\n",
        "    json.dump(vocab_dict, vocab_file)"
      ]
    },
    {
      "cell_type": "markdown",
      "metadata": {
        "id": "KPMnbnSh7d6E"
      },
      "source": [
        "# Creating the tokenizer from the vocabulary just creating"
      ]
    },
    {
      "cell_type": "code",
      "execution_count": null,
      "metadata": {
        "id": "lsDtsoDWjmFZ",
        "tags": []
      },
      "outputs": [],
      "source": [
        "from transformers import Wav2Vec2CTCTokenizer\n",
        "\n",
        "tokenizer = Wav2Vec2CTCTokenizer(\"./vocab.json\", unk_token=UNK_TOKEN, pad_token=PAD_TOKEN, word_delimiter_token=WORD_DELIMITER)"
      ]
    },
    {
      "cell_type": "code",
      "execution_count": null,
      "metadata": {
        "id": "BGkY2IMQjmFa",
        "tags": []
      },
      "outputs": [],
      "source": [
        "from transformers import Wav2Vec2FeatureExtractor\n",
        "\n",
        "feature_extractor = Wav2Vec2FeatureExtractor(feature_size=1, sampling_rate=16000,\n",
        "                                             padding_value=0.0, do_normalize=True,\n",
        "                                             return_attention_mask=True)\n"
      ]
    },
    {
      "cell_type": "code",
      "execution_count": null,
      "metadata": {
        "id": "Pt2SI9rFjmFa",
        "tags": []
      },
      "outputs": [],
      "source": [
        "from transformers import Wav2Vec2Processor\n",
        "\n",
        "processor = Wav2Vec2Processor(\n",
        "    feature_extractor=feature_extractor,\n",
        "    tokenizer=tokenizer\n",
        ")\n"
      ]
    },
    {
      "cell_type": "code",
      "execution_count": null,
      "metadata": {
        "colab": {
          "base_uri": "https://localhost:8080/"
        },
        "id": "sZzk76p9jmFa",
        "outputId": "d54623b3-f1f0-40d3-d4f5-4f570b11b421",
        "tags": []
      },
      "outputs": [],
      "source": [
        "dataset[45]"
      ]
    },
    {
      "cell_type": "markdown",
      "metadata": {
        "id": "snhVwM4F7nFM"
      },
      "source": [
        "# Importing the model"
      ]
    },
    {
      "cell_type": "code",
      "execution_count": null,
      "metadata": {
        "colab": {
          "base_uri": "https://localhost:8080/"
        },
        "id": "v9XKM1GqjmFa",
        "outputId": "899cf9f9-883c-476b-a082-d4cb6549a7b4",
        "tags": []
      },
      "outputs": [],
      "source": [
        "from transformers import Wav2Vec2ForCTC\n",
        "\n",
        "model = Wav2Vec2ForCTC.from_pretrained(\n",
        "    \"facebook/wav2vec2-large-xlsr-53\",\n",
        "    attention_dropout=0.1,\n",
        "    hidden_dropout=0.1,\n",
        "    feat_proj_dropout=0.0,\n",
        "    mask_time_prob=0,\n",
        "    layerdrop=0.1,\n",
        "    ctc_loss_reduction=\"mean\",\n",
        "    pad_token_id=processor.tokenizer.pad_token_id,\n",
        "    vocab_size=len(processor.tokenizer),\n",
        ")\n"
      ]
    },
    {
      "cell_type": "code",
      "execution_count": null,
      "metadata": {
        "id": "E9Yv54FijmFb"
      },
      "outputs": [],
      "source": []
    },
    {
      "cell_type": "code",
      "execution_count": null,
      "metadata": {
        "id": "83VITO0vjmFb"
      },
      "outputs": [],
      "source": []
    },
    {
      "cell_type": "code",
      "execution_count": null,
      "metadata": {
        "id": "OvGWphqBjmFb"
      },
      "outputs": [],
      "source": []
    },
    {
      "cell_type": "code",
      "execution_count": null,
      "metadata": {
        "id": "lFfE1YqDhQoc",
        "tags": []
      },
      "outputs": [],
      "source": [
        "# from transformers import Wav2Vec2Processor\n",
        "\n",
        "# processor = Wav2Vec2Processor.from_pretrained('spktsagar/wav2vec2-large-xls-r-300m-nepali-openslr')"
      ]
    },
    {
      "cell_type": "code",
      "execution_count": null,
      "metadata": {
        "id": "VytJoJ2pGAet",
        "tags": []
      },
      "outputs": [],
      "source": [
        "# from transformers import Wav2Vec2ForCTC\n",
        "\n",
        "# model = Wav2Vec2ForCTC.from_pretrained(\"spktsagar/wav2vec2-large-xls-r-300m-nepali-openslr\",ctc_loss_reduction=\"mean\",pad_token_id=processor.tokenizer.pad_token_id)"
      ]
    },
    {
      "cell_type": "code",
      "execution_count": null,
      "metadata": {
        "colab": {
          "base_uri": "https://localhost:8080/"
        },
        "id": "61gLLKUbGAev",
        "outputId": "9c0470fb-adc4-4b5e-98ad-a07ea9edad4f",
        "tags": []
      },
      "outputs": [],
      "source": [
        "device = torch.device(\"cuda\" if torch.cuda.is_available() else \"cpu\")\n",
        "device"
      ]
    },
    {
      "cell_type": "code",
      "execution_count": null,
      "metadata": {
        "id": "yiaXPx5vGAew",
        "tags": []
      },
      "outputs": [],
      "source": [
        "model = model.to(device)"
      ]
    },
    {
      "cell_type": "code",
      "execution_count": null,
      "metadata": {
        "id": "VOlRpBi9u5zK"
      },
      "outputs": [],
      "source": [
        "# with open('file.txt', 'w') as file:\n",
        "    # file.write(str(model))\n",
        "    # file.close()"
      ]
    },
    {
      "cell_type": "code",
      "execution_count": null,
      "metadata": {
        "colab": {
          "base_uri": "https://localhost:8080/"
        },
        "id": "0HPzIF2DGAew",
        "outputId": "a8527af8-abc7-4f4a-fb2f-f384d42f70e7",
        "tags": []
      },
      "outputs": [],
      "source": [
        "df['Audio']"
      ]
    },
    {
      "cell_type": "code",
      "execution_count": null,
      "metadata": {
        "colab": {
          "base_uri": "https://localhost:8080/"
        },
        "id": "ysz0JPkad583",
        "outputId": "37727f0e-2aee-437a-914d-bf57ed856fe3",
        "tags": []
      },
      "outputs": [],
      "source": [
        "print(dataset.column_names)\n"
      ]
    },
    {
      "cell_type": "markdown",
      "metadata": {
        "id": "woE2AazF72OU"
      },
      "source": [
        "# Creating the batch of dataset."
      ]
    },
    {
      "cell_type": "code",
      "execution_count": null,
      "metadata": {
        "id": "0I00zwm1GAex",
        "tags": []
      },
      "outputs": [],
      "source": [
        "import os\n",
        "\n",
        "def speech_file_to_array_fn(batch):\n",
        "    file_path = batch['Audio']\n",
        "    if not os.path.exists(file_path):\n",
        "        raise FileNotFoundError(f\"Audio file not found: {file_path}\")\n",
        "    speech_array, sampling_rate = torchaudio.load(batch[\"Audio\"])\n",
        "    batch[\"speech\"] = speech_array[0].numpy()\n",
        "    batch[\"sampling_rate\"] = sampling_rate\n",
        "    batch[\"target_text\"] = batch[\"Transcriptions\"]\n",
        "    return batch\n",
        "\n",
        "def prepare_dataset(batch):\n",
        "    batch = speech_file_to_array_fn(batch)\n",
        "    batch[\"input_values\"] = processor(batch[\"speech\"], sampling_rate=batch[\"sampling_rate\"]).input_values[0]\n",
        "    with processor.as_target_processor():\n",
        "        batch[\"labels\"] = processor(batch[\"target_text\"]).input_ids\n",
        "    return batch\n",
        "\n"
      ]
    },
    {
      "cell_type": "code",
      "execution_count": null,
      "metadata": {
        "id": "m-HruFaoEtYy"
      },
      "outputs": [],
      "source": []
    },
    {
      "cell_type": "code",
      "execution_count": null,
      "metadata": {
        "colab": {
          "base_uri": "https://localhost:8080/"
        },
        "id": "BIDsQw22mLXL",
        "outputId": "3b91e059-04ab-48b9-ac7e-b8c11df50622",
        "tags": []
      },
      "outputs": [],
      "source": [
        "dataset"
      ]
    },
    {
      "cell_type": "code",
      "execution_count": null,
      "metadata": {
        "id": "jBhZ7TM6JnKB"
      },
      "outputs": [],
      "source": [
        "# Save the updated DataFrame to a new CSV file\n",
        "# df.to_csv(output_csv, index=False)"
      ]
    },
    {
      "cell_type": "code",
      "execution_count": null,
      "metadata": {
        "colab": {
          "base_uri": "https://localhost:8080/",
          "height": 106,
          "referenced_widgets": [
            "b1348924336c46c69796ac33317f4762",
            "852b8bc2238746f2a7b75bfafdb7781a",
            "766d0074cb884ff396746f0fe6fe407d",
            "2a1d68f7c81946488af561d42919f433",
            "7df6305ff0be441c8cccf4532bd0ced8",
            "58b54bd3a31945a0825951c5af3552c5",
            "19739701ee284885837fb5a49f2567a0",
            "44c6d667d6524007951c7672698fe899",
            "43932b1a17bf4f34a6dd2ace36e8f113",
            "728f67d08ef3464ebf0f3daad56eb382",
            "8e41a7d7d22d4bd48b24e0e1a1cf819a"
          ]
        },
        "id": "e15jn7aoo7Oi",
        "outputId": "d84b762c-dcb9-42f1-9add-c570fd078fa2",
        "tags": []
      },
      "outputs": [],
      "source": [
        "dataset = dataset.map(prepare_dataset, remove_columns=dataset.column_names)"
      ]
    },
    {
      "cell_type": "code",
      "execution_count": null,
      "metadata": {
        "id": "D-9sJEuxJdIm"
      },
      "outputs": [],
      "source": []
    },
    {
      "cell_type": "code",
      "execution_count": null,
      "metadata": {
        "id": "296ZBkRr24AN"
      },
      "outputs": [],
      "source": []
    },
    {
      "cell_type": "code",
      "execution_count": null,
      "metadata": {
        "colab": {
          "base_uri": "https://localhost:8080/"
        },
        "id": "27OPKNcXGAey",
        "outputId": "ea526aa6-7466-4219-a74e-75f9de4f2c99",
        "tags": []
      },
      "outputs": [],
      "source": [
        "dataset"
      ]
    },
    {
      "cell_type": "markdown",
      "metadata": {
        "id": "lYsk_Q5e79G-"
      },
      "source": [
        "### Splitting the data\n",
        "Splitting the data 80% Training 20% Testing of total data \\\\\n",
        "Splitting the data 90% Training and 10% Validation of Training data"
      ]
    },
    {
      "cell_type": "code",
      "execution_count": null,
      "metadata": {
        "id": "5J0e0FYrGAez",
        "tags": []
      },
      "outputs": [],
      "source": [
        "# splitting the dataset into 80% train and 20% test sets\n",
        "train_test_split = dataset.train_test_split(test_size=0.2, shuffle = True)\n",
        "train_dataset = train_test_split['train']\n",
        "test_dataset = train_test_split['test']\n",
        "\n",
        "# Split the training dataset into 90% training and 10% validation\n",
        "train_eval_split = train_dataset.train_test_split(test_size=0.1, shuffle = True)\n",
        "train_dataset = train_eval_split['train']\n",
        "val_dataset = train_eval_split['test']"
      ]
    },
    {
      "cell_type": "code",
      "execution_count": null,
      "metadata": {
        "colab": {
          "base_uri": "https://localhost:8080/",
          "height": 36
        },
        "id": "L1tC1GamoFbZ",
        "outputId": "8903c046-00eb-4f6c-9ba8-d3474f769bdd",
        "tags": []
      },
      "outputs": [],
      "source": [
        "train_dataset[0]['target_text']"
      ]
    },
    {
      "cell_type": "code",
      "execution_count": null,
      "metadata": {
        "colab": {
          "base_uri": "https://localhost:8080/"
        },
        "id": "ycJR1C4ojmFg",
        "outputId": "e1e5e710-28af-4e71-b722-c039ca473804",
        "tags": []
      },
      "outputs": [],
      "source": [
        "test_dataset"
      ]
    },
    {
      "cell_type": "code",
      "execution_count": null,
      "metadata": {
        "colab": {
          "base_uri": "https://localhost:8080/"
        },
        "id": "k2QaV-QLjmFg",
        "outputId": "65ce1944-ecc2-4b15-ecc9-2d8b92ba1768",
        "tags": []
      },
      "outputs": [],
      "source": [
        "val_dataset"
      ]
    },
    {
      "cell_type": "code",
      "execution_count": null,
      "metadata": {
        "id": "PQaAUbfNjmFg"
      },
      "outputs": [],
      "source": [
        "# model.freeze_feature_encoder()\n"
      ]
    },
    {
      "cell_type": "code",
      "execution_count": null,
      "metadata": {
        "id": "xGZjwapMjmFl"
      },
      "outputs": [],
      "source": []
    },
    {
      "cell_type": "code",
      "execution_count": null,
      "metadata": {
        "id": "yn1azUu6jmFl"
      },
      "outputs": [],
      "source": []
    },
    {
      "cell_type": "code",
      "execution_count": null,
      "metadata": {
        "id": "VZH_4j-0jmFl"
      },
      "outputs": [],
      "source": []
    },
    {
      "cell_type": "markdown",
      "metadata": {
        "id": "hpgIGun88bnf"
      },
      "source": [
        "# Defining the metrics"
      ]
    },
    {
      "cell_type": "code",
      "execution_count": null,
      "metadata": {
        "id": "TitEve0ZH5Bw",
        "tags": []
      },
      "outputs": [],
      "source": [
        "import numpy as np\n",
        "import jiwer\n",
        "from datasets import load_metric\n",
        "\n",
        "wer_metric = load_metric(\"wer\", trust_remote_code=True)\n",
        "\n",
        "predictions_list = []\n",
        "references_list = []\n",
        "\n",
        "def compute_metrics(pred):\n",
        "    pred_logits = pred.predictions\n",
        "    pred_ids = np.argmax(pred_logits, axis=-1)\n",
        "    pred_str = processor.batch_decode(pred_ids)\n",
        "    pred_str = [s.replace(processor.tokenizer.pad_token, '') for s in pred_str]\n",
        "\n",
        "    label_ids = pred.label_ids\n",
        "    label_ids[label_ids == -100] = processor.tokenizer.pad_token_id\n",
        "    label_str = processor.batch_decode(label_ids, group_tokens=False)\n",
        "\n",
        "    predictions_list.extend(pred_str)\n",
        "    references_list.extend(label_str)\n",
        "\n",
        "    wer = wer_metric.compute(predictions=pred_str, references=label_str)\n",
        "    return {\"wer\": wer}"
      ]
    },
    {
      "cell_type": "markdown",
      "metadata": {
        "id": "WVNqcqAv8hPk"
      },
      "source": [
        "# Defining the Hyper-Parameters"
      ]
    },
    {
      "cell_type": "code",
      "execution_count": null,
      "metadata": {
        "colab": {
          "base_uri": "https://localhost:8080/"
        },
        "id": "evGF5CuiGAe0",
        "outputId": "4d0c73d2-99ec-41ce-bde3-e4ad2e61f3c9",
        "tags": []
      },
      "outputs": [],
      "source": [
        "# defining the training arguments\n",
        "training_args = TrainingArguments(\n",
        "  output_dir=\"./wav2vec2-nepali-asr\",\n",
        "  group_by_length=True,\n",
        "  per_device_train_batch_size=2,\n",
        "  per_device_eval_batch_size=2,\n",
        "  gradient_accumulation_steps=2,\n",
        "  evaluation_strategy=\"steps\",\n",
        "  save_strategy=\"steps\",\n",
        "  max_steps= 1000,\n",
        "  fp16=True,\n",
        "  num_train_epochs = 1,\n",
        "  save_steps=100,\n",
        "  eval_steps=100,\n",
        "  logging_steps=100,\n",
        "  learning_rate=1e-5,\n",
        "  warmup_steps=100,\n",
        "  save_total_limit=2,\n",
        "  remove_unused_columns=False,\n",
        "  logging_dir='./logs',\n",
        "  resume_from_checkpoint='./wav2vec2-nepali-asr',\n",
        "  load_best_model_at_end = True,\n",
        "  metric_for_best_model= 'wer',\n",
        "  greater_is_better = False,\n",
        ")"
      ]
    },
    {
      "cell_type": "code",
      "execution_count": null,
      "metadata": {
        "id": "agrNdQwRH4U0"
      },
      "outputs": [],
      "source": []
    },
    {
      "cell_type": "code",
      "execution_count": null,
      "metadata": {
        "id": "H0j-74yPIIRO"
      },
      "outputs": [],
      "source": []
    },
    {
      "cell_type": "code",
      "execution_count": null,
      "metadata": {
        "id": "hDp50VamGAe1",
        "tags": []
      },
      "outputs": [],
      "source": [
        "from dataclasses import dataclass\n",
        "from typing import Union, Optional, List, Dict\n",
        "\n",
        "import torch\n",
        "from transformers import Wav2Vec2Processor\n",
        "\n",
        "\n",
        "@dataclass\n",
        "class DataCollatorCTCWithPadding:\n",
        "    processor: Wav2Vec2Processor\n",
        "    padding: Union[bool, str] = True\n",
        "    max_length: Optional[int] = None\n",
        "    max_length_labels: Optional[int] = None\n",
        "    pad_to_multiple_of: Optional[int] = None\n",
        "    pad_to_multiple_of_labels: Optional[int] = None\n",
        "\n",
        "    def __call__(self, features: List[Dict[str, Union[List[int], torch.Tensor]]]) -> Dict[str, torch.Tensor]:\n",
        "        input_features = [{\"input_values\": feature[\"input_values\"]} for feature in features]\n",
        "        label_features = [{\"input_ids\": feature[\"labels\"]} for feature in features]\n",
        "\n",
        "        batch = self.processor.pad(\n",
        "            input_features,\n",
        "            padding=self.padding,\n",
        "            max_length=self.max_length,\n",
        "            pad_to_multiple_of=self.pad_to_multiple_of,\n",
        "            return_tensors=\"pt\",\n",
        "        )\n",
        "        with self.processor.as_target_processor():\n",
        "            labels_batch = self.processor.pad(\n",
        "                label_features,\n",
        "                padding=self.padding,\n",
        "                max_length=self.max_length_labels,\n",
        "                pad_to_multiple_of=self.pad_to_multiple_of_labels,\n",
        "                return_tensors=\"pt\",\n",
        "            )\n",
        "\n",
        "        labels = labels_batch[\"input_ids\"].masked_fill(labels_batch.attention_mask.ne(1), -100)\n",
        "\n",
        "        batch[\"labels\"] = labels\n",
        "\n",
        "        return batch"
      ]
    },
    {
      "cell_type": "code",
      "execution_count": null,
      "metadata": {
        "id": "1Z7iK8TnGAe2",
        "tags": []
      },
      "outputs": [],
      "source": [
        "data_collator = DataCollatorCTCWithPadding(processor=processor, padding=True)"
      ]
    },
    {
      "cell_type": "markdown",
      "metadata": {
        "id": "Tu3UC3jW8x9f"
      },
      "source": [
        "# Defining the Tensor Board"
      ]
    },
    {
      "cell_type": "code",
      "execution_count": null,
      "metadata": {
        "id": "BbExI0K_grVr",
        "tags": []
      },
      "outputs": [],
      "source": [
        "from torch.utils.tensorboard import SummaryWriter\n",
        "import os\n",
        "\n",
        "log_dir = './logs'\n",
        "if not os.path.exists(log_dir):\n",
        "    os.makedirs(log_dir)\n",
        "\n",
        "writer = SummaryWriter(log_dir)"
      ]
    },
    {
      "cell_type": "code",
      "execution_count": null,
      "metadata": {
        "id": "ETn63lNohSLm",
        "tags": []
      },
      "outputs": [],
      "source": [
        "from transformers import TrainerCallback\n",
        "import csv\n",
        "\n",
        "\n",
        "class CustomTensorBoardCallback(TrainerCallback):\n",
        "    def __init__(self, writer, metric, log_dir='./logs'):\n",
        "        self.writer = writer\n",
        "        self.metric = metric\n",
        "        self.log_dir = log_dir\n",
        "        self.training_loss = []\n",
        "        self.validation_loss = []\n",
        "        self.epoch_training_loss = []\n",
        "        self.epoch_validation_loss = []\n",
        "        self.wer = []\n",
        "        self.learning_rate_data = []\n",
        "        self.steps = []\n",
        "\n",
        "        if not os.path.exists(log_dir):\n",
        "            os.makedirs(log_dir)\n",
        "        self.training_file = os.path.join(log_dir, \"training_loss.csv\")\n",
        "        self.validation_file = os.path.join(log_dir, \"validation_loss.csv\")\n",
        "        self.epoch_training_file = os.path.join(log_dir, \"epoch_training_loss.csv\")\n",
        "        self.epoch_validation_file = os.path.join(log_dir, \"epoch_validation_loss.csv\")\n",
        "        self.wer_file = os.path.join(log_dir, \"wer_record.csv\")\n",
        "        self.learning_rate_file = os.path.join(log_dir, \"learning_rate_file.csv\")\n",
        "\n",
        "    def on_evaluate(self, args, state, control, **kwargs):\n",
        "        # Log WER to TensorBoard\n",
        "        eval_results = kwargs.get('metrics')\n",
        "        if eval_results and \"wer\" in eval_results:\n",
        "            self.writer.add_scalar(\"Validation/WER\", eval_results[\"wer\"], state.global_step)\n",
        "        if eval_results and \"eval_loss\" in eval_results:\n",
        "            self.writer.add_scalar(\"Validation/Loss\", eval_results[\"eval_loss\"], state.global_step)\n",
        "            self.validation_loss.append((state.global_step, eval_results[\"eval_loss\"]))\n",
        "            with open(self.validation_file, \"a\") as f:\n",
        "                writer = csv.writer(f)\n",
        "                writer.writerow([state.global_step, eval_results[\"eval_loss\"]])\n",
        "\n",
        "    def on_log(self, args, state, control, logs=None, **kwargs):\n",
        "        if logs is not None:\n",
        "            print(logs)\n",
        "            if \"eval_wer\" in logs:\n",
        "                self.steps.append(state.global_step)\n",
        "                self.wer.append(logs[\"eval_wer\"])\n",
        "\n",
        "                with open(self.wer_file, \"a\") as f:\n",
        "                    writer = csv.writer(f)\n",
        "                    writer.writerow([state.global_step, logs['eval_wer']])\n",
        "\n",
        "            if 'learning_rate' in logs:\n",
        "                self.learning_rate_data.append(logs['learning_rate'])\n",
        "                self.writer.add_scalar('Training/LearningRate', logs['learning_rate'], state.global_step)\n",
        "                with open(self.learning_rate_file, \"a\") as f:\n",
        "                    writer = csv.writer(f)\n",
        "                    writer.writerow([state.global_step, logs[\"learning_rate\"]])\n",
        "\n",
        "            if 'loss' in logs:\n",
        "                self.writer.add_scalar('Training/Loss', logs['loss'], state.global_step)\n",
        "                self.training_loss.append((state.global_step, logs['loss']))\n",
        "\n",
        "                with open(self.training_file, \"a\") as f:\n",
        "                    writer = csv.writer(f)\n",
        "                    writer.writerow([state.global_step, logs['loss']])\n",
        "            for key, value in logs.items():\n",
        "                if key not in ['loss']:  # Avoid logging the training loss twice\n",
        "                    self.writer.add_scalar(f'Training/{key}', value, state.global_step)\n",
        "tensorboard_callback = CustomTensorBoardCallback(writer, wer_metric)"
      ]
    },
    {
      "cell_type": "markdown",
      "metadata": {
        "id": "hlwE3zgW85eb"
      },
      "source": [
        "# Initializing the Trainer"
      ]
    },
    {
      "cell_type": "code",
      "execution_count": null,
      "metadata": {
        "colab": {
          "base_uri": "https://localhost:8080/"
        },
        "id": "J6X1ASBOGAe3",
        "outputId": "4196037f-18f5-4ae8-f299-7a60e8e0dfdc",
        "tags": []
      },
      "outputs": [],
      "source": [
        "trainer = Trainer(\n",
        "    model=model,\n",
        "    data_collator=data_collator,\n",
        "    args=training_args,\n",
        "    compute_metrics=compute_metrics,\n",
        "    train_dataset=train_dataset,\n",
        "    eval_dataset=val_dataset,\n",
        "    tokenizer=processor.feature_extractor,\n",
        "    callbacks=[tensorboard_callback]\n",
        ")\n",
        "\n"
      ]
    },
    {
      "cell_type": "code",
      "execution_count": null,
      "metadata": {
        "id": "5sSKg_vKGAe4",
        "tags": []
      },
      "outputs": [],
      "source": [
        "torch.cuda.empty_cache()"
      ]
    },
    {
      "cell_type": "code",
      "execution_count": null,
      "metadata": {
        "colab": {
          "base_uri": "https://localhost:8080/"
        },
        "id": "l04k__ESpkDQ",
        "outputId": "72b9689c-1dbe-4c91-fbe1-8b031bc46104",
        "tags": []
      },
      "outputs": [],
      "source": [
        "!ls"
      ]
    },
    {
      "cell_type": "code",
      "execution_count": null,
      "metadata": {
        "colab": {
          "base_uri": "https://localhost:8080/",
          "height": 36
        },
        "id": "--Nd5GUcGAe4",
        "outputId": "d8140714-73ec-4ec3-f71e-e35f35744cd6",
        "tags": []
      },
      "outputs": [],
      "source": [
        "device.type"
      ]
    },
    {
      "cell_type": "markdown",
      "metadata": {
        "id": "W5uYK2oF8-Pv"
      },
      "source": [
        "# Freezing the feature Extractor"
      ]
    },
    {
      "cell_type": "code",
      "execution_count": null,
      "metadata": {
        "colab": {
          "base_uri": "https://localhost:8080/"
        },
        "id": "z-vagtsywl6k",
        "outputId": "ea1e6698-484a-428a-bc60-a3f42a7dc69c"
      },
      "outputs": [],
      "source": [
        "model.freeze_feature_extractor()"
      ]
    },
    {
      "cell_type": "markdown",
      "metadata": {
        "id": "aQUw0Fed9BjR"
      },
      "source": [
        "# Training Begins"
      ]
    },
    {
      "cell_type": "code",
      "execution_count": null,
      "metadata": {
        "colab": {
          "base_uri": "https://localhost:8080/",
          "height": 1000
        },
        "id": "70HCiJnhGAe4",
        "outputId": "851f0c85-d7f6-401d-e048-80d3d2db22b7",
        "tags": []
      },
      "outputs": [],
      "source": [
        "trainer.train()"
      ]
    },
    {
      "cell_type": "code",
      "execution_count": null,
      "metadata": {
        "id": "oLkmlPYWjmFp"
      },
      "outputs": [],
      "source": [
        "!ls"
      ]
    },
    {
      "cell_type": "code",
      "execution_count": null,
      "metadata": {
        "id": "oIiRGq0JjmFp"
      },
      "outputs": [],
      "source": [
        "!zip -r logs.zip logs/\n"
      ]
    },
    {
      "cell_type": "code",
      "execution_count": null,
      "metadata": {
        "id": "MJW9DOOmjmFp"
      },
      "outputs": [],
      "source": [
        "!zip -r checkpoint.zip wav2vec2-nepali-asr/checkpoint-16000/"
      ]
    },
    {
      "cell_type": "code",
      "execution_count": null,
      "metadata": {
        "id": "o7ME4MOrlHea"
      },
      "outputs": [],
      "source": []
    },
    {
      "cell_type": "code",
      "execution_count": null,
      "metadata": {
        "id": "FDhHSVrzlHbU"
      },
      "outputs": [],
      "source": []
    },
    {
      "cell_type": "code",
      "execution_count": null,
      "metadata": {
        "id": "RL8JY9GjlHYc"
      },
      "outputs": [],
      "source": []
    },
    {
      "cell_type": "code",
      "execution_count": null,
      "metadata": {
        "id": "9PPNPHPflHVS"
      },
      "outputs": [],
      "source": []
    },
    {
      "cell_type": "code",
      "execution_count": null,
      "metadata": {
        "id": "PtWFrgWQlHS3"
      },
      "outputs": [],
      "source": []
    },
    {
      "cell_type": "code",
      "execution_count": null,
      "metadata": {
        "id": "I8d4bMD0lHQa"
      },
      "outputs": [],
      "source": []
    },
    {
      "cell_type": "code",
      "execution_count": null,
      "metadata": {
        "id": "1Rdv9a1ClHN8"
      },
      "outputs": [],
      "source": []
    },
    {
      "cell_type": "code",
      "execution_count": null,
      "metadata": {
        "colab": {
          "base_uri": "https://localhost:8080/"
        },
        "id": "Y6PDuAScgsqh",
        "outputId": "aa5122c9-d7c7-4580-8512-aad9c5b9ead5",
        "tags": []
      },
      "outputs": [],
      "source": [
        "# analyzing top word that are errors\n",
        "from collections import Counter\n",
        "\n",
        "\n",
        "pred_tokens = [token for sentence in predictions_list for token in sentence.split()]\n",
        "ref_tokens = [token for sentence in references_list for token in sentence.split()]\n",
        "\n",
        "\n",
        "errors = [ref for ref, pred in zip(ref_tokens, pred_tokens) if ref != pred]\n",
        "\n",
        "error_counts = Counter(errors)\n",
        "\n",
        "top_errors = error_counts.most_common(10)  # Adjust the number as needed\n",
        "\n",
        "print(\"Top Error Words and Their Frequencies:\")\n",
        "with open('training_top_error_rate.csv', 'w', newline='') as f:\n",
        "    writer = csv.writer(f)\n",
        "    writer.writerow([\"Word\", \"Frequency\"])\n",
        "    for word, count in top_errors:\n",
        "        writer.writerow([word, count])\n",
        "        print(f\"{word}: {count}\")\n"
      ]
    },
    {
      "cell_type": "code",
      "execution_count": null,
      "metadata": {
        "colab": {
          "base_uri": "https://localhost:8080/"
        },
        "id": "eftrBiTAtBJE",
        "outputId": "eac695da-ea37-48b3-abc2-990afdb4dd15",
        "tags": []
      },
      "outputs": [],
      "source": [
        "!pip install seaborn"
      ]
    },
    {
      "cell_type": "code",
      "execution_count": null,
      "metadata": {
        "colab": {
          "base_uri": "https://localhost:8080/"
        },
        "id": "i5St78LotAcy",
        "outputId": "97bb1c33-42fa-44ce-988c-327bf7701324",
        "tags": []
      },
      "outputs": [],
      "source": [
        "import csv\n",
        "from collections import Counter\n",
        "\n",
        "true_labels = references_list\n",
        "predicted_labels = predictions_list\n",
        "\n",
        "\n",
        "true_tokens = [token for sentence in true_labels for token in sentence.split()]\n",
        "pred_tokens = [token for sentence in predicted_labels for token in sentence.split()]\n",
        "\n",
        "\n",
        "errors = [(true, pred) for true, pred in zip(true_tokens, pred_tokens) if true != pred]\n",
        "\n",
        "error_counts = Counter(errors)\n",
        "\n",
        "top_errors = error_counts.most_common(10)\n",
        "\n",
        "print(\"Top Error Words and Their Frequencies:\")\n",
        "\n",
        "with open('training_top_error_rate_frequency.csv', 'w', newline='') as f:\n",
        "    writer = csv.writer(f)\n",
        "    writer.writerow([\"True Word\", \"Predicted Word\", \"Count\"])\n",
        "    for (true_word, pred_word), count in top_errors:\n",
        "        writer.writerow([true_word, pred_word, count])\n",
        "        print(f\"True: {true_word} | Predicted: {pred_word} | Count: {count}\")\n"
      ]
    },
    {
      "cell_type": "code",
      "execution_count": null,
      "metadata": {
        "id": "l7j_oXSbGAe5",
        "tags": []
      },
      "outputs": [],
      "source": [
        "%load_ext tensorboard\n",
        "%tensorboard --logdir ./logs\n"
      ]
    },
    {
      "cell_type": "code",
      "execution_count": null,
      "metadata": {
        "id": "6QSe81lMjmFq",
        "tags": []
      },
      "outputs": [],
      "source": [
        "from matplotlib import pyplot as plt"
      ]
    },
    {
      "cell_type": "code",
      "execution_count": null,
      "metadata": {
        "colab": {
          "base_uri": "https://localhost:8080/",
          "height": 487
        },
        "id": "UU7FUwyDtHLT",
        "outputId": "17bf9671-3548-4d81-b467-f8c138f06681",
        "tags": []
      },
      "outputs": [],
      "source": [
        "plt.figure(figsize=(10, 5))\n",
        "plt.plot(tensorboard_callback.steps, tensorboard_callback.wer, label='WER')\n",
        "plt.xlabel('Steps')\n",
        "plt.ylabel('WER')\n",
        "plt.title('WER vs. Steps')\n",
        "plt.legend()\n",
        "plt.savefig('wer vs steps.png')\n",
        "plt.show()\n",
        "\n",
        "\n"
      ]
    },
    {
      "cell_type": "code",
      "execution_count": null,
      "metadata": {
        "id": "o-rS-hY0tIvk",
        "tags": []
      },
      "outputs": [],
      "source": [
        "# plt.figure(figsize=(10, 5))\n",
        "# plt.plot(tensorboard_callback.steps, tensorboard_callback.learning_rate_data, label='Learning Rate')\n",
        "# plt.xlabel('Steps')\n",
        "# plt.ylabel('Learning Rate')\n",
        "# plt.title('Learning Rate vs. Steps')\n",
        "# plt.savefig('learning_rate vs steps.png')\n",
        "# plt.legend()\n",
        "# plt.show()"
      ]
    },
    {
      "cell_type": "code",
      "execution_count": null,
      "metadata": {
        "id": "nI1D-MB5lS3H",
        "tags": []
      },
      "outputs": [],
      "source": [
        "import matplotlib.pyplot as plt\n",
        "import pandas as pd\n",
        "\n",
        "\n",
        "training_loss_df = pd.read_csv('./logs/training_loss.csv', header=None, names=['step', 'loss'])\n",
        "validation_loss_df = pd.read_csv('./logs/validation_loss.csv', header=None, names=['step', 'loss'])\n",
        "# epoch_training_loss_df = pd.read_csv('./logs/epoch_training_loss.csv', header=None, names=['epoch', 'loss'])\n",
        "# epoch_validation_loss_df = pd.read_csv('./logs/epoch_validation_loss.csv', header=None, names=['epoch', 'loss'])\n",
        "\n",
        "\n",
        "plt.figure(figsize=(10, 5))\n",
        "plt.plot(training_loss_df['step'], training_loss_df['loss'], label='Training Loss')\n",
        "plt.plot(validation_loss_df['step'], validation_loss_df['loss'], label='Validation Loss')\n",
        "plt.xlabel('Step')\n",
        "plt.ylabel('Loss')\n",
        "plt.title('Training and Validation Loss per Step')\n",
        "plt.legend()\n",
        "plt.savefig('training and validation.png')\n",
        "plt.show()\n",
        "\n",
        "# Plot training and validation loss per epoch\n",
        "# plt.figure(figsize=(10, 5))\n",
        "# plt.plot(epoch_training_loss_df['epoch'], epoch_training_loss_df['loss'], label='Training Loss')\n",
        "# plt.plot(epoch_validation_loss_df['epoch'], epoch_validation_loss_df['loss'], label='Validation Loss')\n",
        "# plt.xlabel('Epoch')\n",
        "# plt.ylabel('Loss')\n",
        "# plt.title('Training and Validation Loss per Epoch')\n",
        "# plt.legend()\n",
        "# plt.show()\n"
      ]
    },
    {
      "cell_type": "code",
      "execution_count": null,
      "metadata": {
        "id": "hkoV_3eWjmFr",
        "tags": []
      },
      "outputs": [],
      "source": [
        "!ls"
      ]
    },
    {
      "cell_type": "code",
      "execution_count": null,
      "metadata": {
        "id": "p6saiPwQjmFr",
        "tags": []
      },
      "outputs": [],
      "source": [
        "!unzip ./satisfactory.zip"
      ]
    },
    {
      "cell_type": "code",
      "execution_count": null,
      "metadata": {
        "id": "ao6luNo2jmFr"
      },
      "outputs": [],
      "source": []
    },
    {
      "cell_type": "code",
      "execution_count": null,
      "metadata": {
        "id": "RtHF7a2IjmFr"
      },
      "outputs": [],
      "source": []
    },
    {
      "cell_type": "code",
      "execution_count": null,
      "metadata": {
        "id": "uSBa4cRAjmFs"
      },
      "outputs": [],
      "source": []
    },
    {
      "cell_type": "code",
      "execution_count": null,
      "metadata": {
        "id": "myoQQR1hjmFs"
      },
      "outputs": [],
      "source": []
    },
    {
      "cell_type": "code",
      "execution_count": null,
      "metadata": {
        "id": "ekIWoI-PjmFs"
      },
      "outputs": [],
      "source": []
    },
    {
      "cell_type": "code",
      "execution_count": null,
      "metadata": {
        "id": "wfVn9qCPjmFs"
      },
      "outputs": [],
      "source": []
    },
    {
      "cell_type": "code",
      "execution_count": null,
      "metadata": {
        "id": "XJ3XlgEHjmFs"
      },
      "outputs": [],
      "source": []
    },
    {
      "cell_type": "code",
      "execution_count": null,
      "metadata": {
        "colab": {
          "base_uri": "https://localhost:8080/",
          "height": 398
        },
        "id": "4GldoI20inmp",
        "outputId": "3abade02-3443-4c52-eb18-ff8c04a7990b",
        "tags": []
      },
      "outputs": [],
      "source": [
        "test_results = trainer.evaluate(eval_dataset=test_dataset)\n",
        "print(f\"Test WER: {test_results['eval_wer']:.4f}\")"
      ]
    },
    {
      "cell_type": "code",
      "execution_count": null,
      "metadata": {
        "id": "lB724PtMjmFt"
      },
      "outputs": [],
      "source": []
    },
    {
      "cell_type": "code",
      "execution_count": null,
      "metadata": {
        "id": "jbTPACuKjmFt"
      },
      "outputs": [],
      "source": []
    },
    {
      "cell_type": "code",
      "execution_count": null,
      "metadata": {
        "id": "TrKj6WHJjmFt"
      },
      "outputs": [],
      "source": []
    },
    {
      "cell_type": "code",
      "execution_count": null,
      "metadata": {
        "id": "zinIkohojmFu"
      },
      "outputs": [],
      "source": []
    },
    {
      "cell_type": "code",
      "execution_count": null,
      "metadata": {
        "id": "34Uu7LlqjmFu"
      },
      "outputs": [],
      "source": []
    },
    {
      "cell_type": "code",
      "execution_count": null,
      "metadata": {
        "id": "c8iw6FVljmFu"
      },
      "outputs": [],
      "source": []
    },
    {
      "cell_type": "code",
      "execution_count": null,
      "metadata": {
        "id": "3H9PWmBRjmFu"
      },
      "outputs": [],
      "source": []
    },
    {
      "cell_type": "code",
      "execution_count": null,
      "metadata": {
        "id": "lS9eLwLNAWX1",
        "tags": []
      },
      "outputs": [],
      "source": [
        "# model.freeze_feature_encoder()"
      ]
    },
    {
      "cell_type": "code",
      "execution_count": null,
      "metadata": {
        "id": "TNtJDcAijmFv"
      },
      "outputs": [],
      "source": []
    },
    {
      "cell_type": "code",
      "execution_count": null,
      "metadata": {
        "id": "YyzdeOYkjmFv"
      },
      "outputs": [],
      "source": []
    },
    {
      "cell_type": "code",
      "execution_count": null,
      "metadata": {
        "id": "yB5vZduZjmFv"
      },
      "outputs": [],
      "source": []
    },
    {
      "cell_type": "code",
      "execution_count": null,
      "metadata": {
        "id": "u3pA5SbRjmFv"
      },
      "outputs": [],
      "source": []
    },
    {
      "cell_type": "code",
      "execution_count": null,
      "metadata": {
        "id": "_h42YrAjjmFv"
      },
      "outputs": [],
      "source": []
    },
    {
      "cell_type": "code",
      "execution_count": null,
      "metadata": {
        "id": "29pMF3J5jmFv"
      },
      "outputs": [],
      "source": []
    },
    {
      "cell_type": "code",
      "execution_count": null,
      "metadata": {
        "id": "sea7817BjmFv",
        "tags": []
      },
      "outputs": [],
      "source": []
    },
    {
      "cell_type": "code",
      "execution_count": null,
      "metadata": {
        "id": "rX7WubKUjmFv",
        "tags": []
      },
      "outputs": [],
      "source": [
        "!pip install jiwer"
      ]
    },
    {
      "cell_type": "markdown",
      "metadata": {
        "id": "1Z-C0SX3jmFv"
      },
      "source": [
        "# Testing on Test Dataset"
      ]
    },
    {
      "cell_type": "code",
      "execution_count": null,
      "metadata": {
        "id": "OObGNF98jmFx"
      },
      "outputs": [],
      "source": [
        "from transformers import Wav2Vec2Processor, Wav2Vec2ForCTC\n",
        "from datasets import load_dataset\n",
        "import torch\n",
        "from jiwer import wer\n",
        "from safetensors import safe_open\n",
        "from collections import Counter\n",
        "import difflib\n",
        "\n",
        "model_path = 'spktsagar/wav2vec2-large-xls-r-300m-nepali-openslr'\n",
        "checkpoint = './checkpoint-2760/model.safetensors'\n",
        "\n",
        "processor = Wav2Vec2Processor.from_pretrained(model_path)\n",
        "with safe_open(checkpoint, framework=\"pt\") as f:\n",
        "    model_state_dict = {key: torch.tensor(f.get_tensor(key)) for key in f.keys()}\n",
        "model = Wav2Vec2ForCTC.from_pretrained(model_path, state_dict=model_state_dict)\n",
        "model.eval()\n",
        "\n",
        "\n",
        "def transcribe_audio(waveform):\n",
        "    input_values = processor(waveform, return_tensors=\"pt\", sampling_rate=16000).input_values\n",
        "    with torch.no_grad():\n",
        "        logits = model(input_values).logits\n",
        "    predicted_ids = torch.argmax(logits, dim=-1)\n",
        "    transcription = processor.decode(predicted_ids[0])\n",
        "    return transcription\n",
        "\n",
        "\n",
        "def get_detailed_errors(reference, hypothesis):\n",
        "    reference_words = reference.split()\n",
        "    hypothesis_words = hypothesis.split()\n",
        "    sm = difflib.SequenceMatcher(None, reference_words, hypothesis_words)\n",
        "\n",
        "    detailed_errors = {\n",
        "        'substitutions': [],\n",
        "        'insertions': [],\n",
        "        'deletions': []\n",
        "    }\n",
        "\n",
        "    for tag, i1, i2, j1, j2 in sm.get_opcodes():\n",
        "        if tag == 'replace':\n",
        "            detailed_errors['substitutions'].extend(zip(reference_words[i1:i2], hypothesis_words[j1:j2]))\n",
        "        elif tag == 'insert':\n",
        "            detailed_errors['insertions'].extend(hypothesis_words[j1:j2])\n",
        "        elif tag == 'delete':\n",
        "            detailed_errors['deletions'].extend(reference_words[i1:i2])\n",
        "\n",
        "    return detailed_errors\n",
        "\n",
        "\n",
        "confusion_matrix = Counter()\n",
        "total_wer = 0\n",
        "total_examples = 0\n",
        "\n",
        "\n",
        "\n",
        "for example in test_dataset:\n",
        "    predicted_text = transcribe_audio(example['speech'])\n",
        "    reference_text = example[\"target_text\"]\n",
        "\n",
        "\n",
        "    error_rate = wer(reference_text, predicted_text)\n",
        "    total_wer += error_rate\n",
        "    total_examples += 1\n",
        "\n",
        "\n",
        "    detailed_errors = get_detailed_errors(reference_text, predicted_text)\n",
        "\n",
        "\n",
        "    for ref_word, hyp_word in detailed_errors['substitutions']:\n",
        "        confusion_matrix[(ref_word, hyp_word)] += 1\n",
        "    for ins_word in detailed_errors['insertions']:\n",
        "        confusion_matrix[('<ins>', ins_word)] += 1\n",
        "    for del_word in detailed_errors['deletions']:\n",
        "        confusion_matrix[(del_word, '<del>')] += 1"
      ]
    },
    {
      "cell_type": "code",
      "execution_count": null,
      "metadata": {
        "id": "sCFZGxKjjmFx",
        "tags": []
      },
      "outputs": [],
      "source": [
        "total_examples = len(test_dataset)\n",
        "substitutions = sum(1 for (ref, hyp) in confusion_matrix if ref != '<ins>' and hyp != '<del>')\n",
        "deletions = sum(1 for (ref, hyp) in confusion_matrix if hyp == '<del>')\n",
        "insertions = sum(1 for (ref, hyp) in confusion_matrix if ref == '<ins>')\n",
        "\n",
        "average_wer = total_wer / total_examples\n",
        "print(f\"Overall WER: {average_wer:.4f}\")\n",
        "\n",
        "print(f\"Total examples: {total_examples}\")\n",
        "print(f\"Substitutions: {substitutions}\")\n",
        "print(f\"Deletions: {deletions}\")\n",
        "print(f\"Insertions: {insertions}\")\n",
        "\n",
        "\n",
        "print(\"\\nTop confused words:\")\n",
        "for (ref_word, hyp_word), freq in confusion_matrix.most_common(10):\n",
        "    print(f\"{ref_word} -> {hyp_word}: {freq}\")"
      ]
    },
    {
      "cell_type": "code",
      "execution_count": null,
      "metadata": {
        "id": "wXhjzpAljmFy"
      },
      "outputs": [],
      "source": [
        "test_dataset"
      ]
    },
    {
      "cell_type": "code",
      "execution_count": null,
      "metadata": {
        "id": "SeVWv3NMjmFy"
      },
      "outputs": [],
      "source": [
        "import torch\n",
        "from torch.utils.data import DataLoader\n",
        "\n",
        "# Example dataset and DataLoader (replace with your actual dataset and DataLoader)\n",
        "class ExampleDataset(torch.utils.data.Dataset):\n",
        "    def __init__(self):\n",
        "        self.data = [\"यो पहिलो वाक्य हो।\", \"यहाँ अर्को वाक्य छ।\", \"र अन्तिम वाक्य।\"]\n",
        "\n",
        "    def __len__(self):\n",
        "        return len(self.data)\n",
        "\n",
        "    def __getitem__(self, idx):\n",
        "        return self.data[idx]\n",
        "\n",
        "# Create the dataset and dataloader\n",
        "test_dataset = ExampleDataset()\n",
        "test_dataloader = DataLoader(test_dataset, batch_size=1, shuffle=False)\n",
        "\n",
        "# Initialize a list to hold all the target text\n",
        "all_texts = []\n",
        "\n",
        "# Use a while loop to iterate through the DataLoader\n",
        "iterator = iter(test_dataloader)\n",
        "while True:\n",
        "    try:\n",
        "        # Get the next batch (in this case, one sentence at a time)\n",
        "        batch = next(iterator)\n",
        "        # Append the batch text to the list\n",
        "        all_texts.append(batch[0])\n",
        "    except StopIteration:\n",
        "        # If we've reached the end of the DataLoader, break the loop\n",
        "        break\n",
        "\n",
        "# Concatenate all sentences into one string\n",
        "all_text = ' '.join(all_texts)\n",
        "\n",
        "# Split the concatenated string into words\n",
        "words = all_text.split()\n",
        "\n",
        "# Count the number of words\n",
        "word_count = len(words)\n",
        "\n",
        "print(f\"Number of words in test_dataset['target_text']: {word_count}\")\n"
      ]
    },
    {
      "cell_type": "code",
      "execution_count": null,
      "metadata": {
        "id": "aX_VCbltjmFy",
        "tags": []
      },
      "outputs": [],
      "source": [
        "all_text"
      ]
    },
    {
      "cell_type": "code",
      "execution_count": null,
      "metadata": {
        "id": "kCwoCTSZjmFz"
      },
      "outputs": [],
      "source": [
        "words = all_text.split()\n",
        "\n",
        "# Count the number of words\n",
        "word_count = len(words)"
      ]
    },
    {
      "cell_type": "code",
      "execution_count": null,
      "metadata": {
        "id": "hj6GyHuqjmFz"
      },
      "outputs": [],
      "source": [
        "word_count"
      ]
    },
    {
      "cell_type": "code",
      "execution_count": null,
      "metadata": {
        "id": "mnyjC2BSjmFz"
      },
      "outputs": [],
      "source": []
    },
    {
      "cell_type": "code",
      "execution_count": null,
      "metadata": {
        "id": "prOfP7G9jmFz"
      },
      "outputs": [],
      "source": []
    },
    {
      "cell_type": "code",
      "execution_count": null,
      "metadata": {
        "id": "pzqKEsZ7jmFz"
      },
      "outputs": [],
      "source": []
    },
    {
      "cell_type": "code",
      "execution_count": null,
      "metadata": {
        "id": "mybbn6BSjmFz"
      },
      "outputs": [],
      "source": []
    },
    {
      "cell_type": "code",
      "execution_count": null,
      "metadata": {
        "id": "6NoEZ90BQ3eQ",
        "tags": []
      },
      "outputs": [],
      "source": [
        "def transcribe_audio(audio_file):\n",
        "    speech, sample_rate = torchaudio.load(audio_file)\n",
        "\n",
        "    if sample_rate != 16000:\n",
        "        resampler = torchaudio.transforms.Resample(orig_freq=sample_rate, new_freq=16000)\n",
        "        speech = resampler(speech)\n",
        "\n",
        "    inputs = processor(speech.squeeze().numpy(), sampling_rate=16000, return_tensors=\"pt\", padding=True)\n",
        "\n",
        "    # Move inputs to the same device as the model\n",
        "    device = torch.device(\"cuda\" if torch.cuda.is_available() else \"cpu\")\n",
        "    inputs = {key: value.to(device) for key, value in inputs.items()}\n",
        "\n",
        "    # Put the model in evaluation mode and move it to the device\n",
        "    # model= trained.to(device)\n",
        "    model.eval()\n",
        "    # print(model.eval())\n",
        "\n",
        "    # Make predictions\n",
        "    with torch.no_grad():\n",
        "        logits = model(**inputs).logits\n",
        "        print(logits)\n",
        "\n",
        "    # Decode the predictions\n",
        "    pred_ids = torch.argmax(logits, dim=-1)\n",
        "    transcription = processor.batch_decode(pred_ids)\n",
        "\n",
        "    print(transcription, pred_ids)\n",
        "    return transcription[0]"
      ]
    },
    {
      "cell_type": "code",
      "execution_count": null,
      "metadata": {
        "colab": {
          "base_uri": "https://localhost:8080/"
        },
        "id": "AtxUqx8XS1MH",
        "outputId": "80675942-c518-4c29-9561-2f5ab6675ed8",
        "tags": []
      },
      "outputs": [],
      "source": [
        "\n",
        "# Example usage\n",
        "audio_file = \"./data/Voice10.wav\"\n",
        "transcription = transcribe_audio(audio_file)\n",
        "print(f\"Transcription: {transcription}\")"
      ]
    },
    {
      "cell_type": "code",
      "execution_count": null,
      "metadata": {
        "id": "PQ5mKGnoS1JV"
      },
      "outputs": [],
      "source": []
    },
    {
      "cell_type": "code",
      "execution_count": null,
      "metadata": {
        "id": "DlshPrcJAyzo"
      },
      "outputs": [],
      "source": []
    },
    {
      "cell_type": "code",
      "execution_count": null,
      "metadata": {
        "id": "zeRo0KHSS1Gt"
      },
      "outputs": [],
      "source": []
    },
    {
      "cell_type": "code",
      "execution_count": null,
      "metadata": {
        "id": "9iWZDosFAuga"
      },
      "outputs": [],
      "source": []
    },
    {
      "cell_type": "code",
      "execution_count": null,
      "metadata": {
        "id": "JjMLOdhVABAg"
      },
      "outputs": [],
      "source": []
    }
  ],
  "metadata": {
    "accelerator": "GPU",
    "colab": {
      "gpuType": "T4",
      "provenance": []
    },
    "kernelspec": {
      "display_name": ".conda-default:Python",
      "language": "python",
      "name": "conda-env-.conda-default-py"
    },
    "language_info": {
      "codemirror_mode": {
        "name": "ipython",
        "version": 3
      },
      "file_extension": ".py",
      "mimetype": "text/x-python",
      "name": "python",
      "nbconvert_exporter": "python",
      "pygments_lexer": "ipython3",
      "version": "3.9.19"
    },
    "widgets": {
      "application/vnd.jupyter.widget-state+json": {
        "02075feaedcc4d0a9a328123d3d9fa05": {
          "model_module": "@jupyter-widgets/controls",
          "model_module_version": "1.5.0",
          "model_name": "DescriptionStyleModel",
          "state": {
            "_model_module": "@jupyter-widgets/controls",
            "_model_module_version": "1.5.0",
            "_model_name": "DescriptionStyleModel",
            "_view_count": null,
            "_view_module": "@jupyter-widgets/base",
            "_view_module_version": "1.2.0",
            "_view_name": "StyleView",
            "description_width": ""
          }
        },
        "1541f99c97e04dbd8a252bb0d5b81667": {
          "model_module": "@jupyter-widgets/controls",
          "model_module_version": "1.5.0",
          "model_name": "DescriptionStyleModel",
          "state": {
            "_model_module": "@jupyter-widgets/controls",
            "_model_module_version": "1.5.0",
            "_model_name": "DescriptionStyleModel",
            "_view_count": null,
            "_view_module": "@jupyter-widgets/base",
            "_view_module_version": "1.2.0",
            "_view_name": "StyleView",
            "description_width": ""
          }
        },
        "19739701ee284885837fb5a49f2567a0": {
          "model_module": "@jupyter-widgets/controls",
          "model_module_version": "1.5.0",
          "model_name": "DescriptionStyleModel",
          "state": {
            "_model_module": "@jupyter-widgets/controls",
            "_model_module_version": "1.5.0",
            "_model_name": "DescriptionStyleModel",
            "_view_count": null,
            "_view_module": "@jupyter-widgets/base",
            "_view_module_version": "1.2.0",
            "_view_name": "StyleView",
            "description_width": ""
          }
        },
        "20fa9ce631d14d4582c5551684d211b8": {
          "model_module": "@jupyter-widgets/base",
          "model_module_version": "1.2.0",
          "model_name": "LayoutModel",
          "state": {
            "_model_module": "@jupyter-widgets/base",
            "_model_module_version": "1.2.0",
            "_model_name": "LayoutModel",
            "_view_count": null,
            "_view_module": "@jupyter-widgets/base",
            "_view_module_version": "1.2.0",
            "_view_name": "LayoutView",
            "align_content": null,
            "align_items": null,
            "align_self": null,
            "border": null,
            "bottom": null,
            "display": null,
            "flex": null,
            "flex_flow": null,
            "grid_area": null,
            "grid_auto_columns": null,
            "grid_auto_flow": null,
            "grid_auto_rows": null,
            "grid_column": null,
            "grid_gap": null,
            "grid_row": null,
            "grid_template_areas": null,
            "grid_template_columns": null,
            "grid_template_rows": null,
            "height": null,
            "justify_content": null,
            "justify_items": null,
            "left": null,
            "margin": null,
            "max_height": null,
            "max_width": null,
            "min_height": null,
            "min_width": null,
            "object_fit": null,
            "object_position": null,
            "order": null,
            "overflow": null,
            "overflow_x": null,
            "overflow_y": null,
            "padding": null,
            "right": null,
            "top": null,
            "visibility": null,
            "width": null
          }
        },
        "2a1d68f7c81946488af561d42919f433": {
          "model_module": "@jupyter-widgets/controls",
          "model_module_version": "1.5.0",
          "model_name": "HTMLModel",
          "state": {
            "_dom_classes": [],
            "_model_module": "@jupyter-widgets/controls",
            "_model_module_version": "1.5.0",
            "_model_name": "HTMLModel",
            "_view_count": null,
            "_view_module": "@jupyter-widgets/controls",
            "_view_module_version": "1.5.0",
            "_view_name": "HTMLView",
            "description": "",
            "description_tooltip": null,
            "layout": "IPY_MODEL_728f67d08ef3464ebf0f3daad56eb382",
            "placeholder": "​",
            "style": "IPY_MODEL_8e41a7d7d22d4bd48b24e0e1a1cf819a",
            "value": " 4000/4000 [00:36&lt;00:00, 149.54 examples/s]"
          }
        },
        "3822196ab651491087caba6e46c65e23": {
          "model_module": "@jupyter-widgets/controls",
          "model_module_version": "1.5.0",
          "model_name": "HTMLModel",
          "state": {
            "_dom_classes": [],
            "_model_module": "@jupyter-widgets/controls",
            "_model_module_version": "1.5.0",
            "_model_name": "HTMLModel",
            "_view_count": null,
            "_view_module": "@jupyter-widgets/controls",
            "_view_module_version": "1.5.0",
            "_view_name": "HTMLView",
            "description": "",
            "description_tooltip": null,
            "layout": "IPY_MODEL_8202535913e74abe83306e5b8a551c82",
            "placeholder": "​",
            "style": "IPY_MODEL_1541f99c97e04dbd8a252bb0d5b81667",
            "value": "Map: 100%"
          }
        },
        "43932b1a17bf4f34a6dd2ace36e8f113": {
          "model_module": "@jupyter-widgets/controls",
          "model_module_version": "1.5.0",
          "model_name": "ProgressStyleModel",
          "state": {
            "_model_module": "@jupyter-widgets/controls",
            "_model_module_version": "1.5.0",
            "_model_name": "ProgressStyleModel",
            "_view_count": null,
            "_view_module": "@jupyter-widgets/base",
            "_view_module_version": "1.2.0",
            "_view_name": "StyleView",
            "bar_color": null,
            "description_width": ""
          }
        },
        "44c6d667d6524007951c7672698fe899": {
          "model_module": "@jupyter-widgets/base",
          "model_module_version": "1.2.0",
          "model_name": "LayoutModel",
          "state": {
            "_model_module": "@jupyter-widgets/base",
            "_model_module_version": "1.2.0",
            "_model_name": "LayoutModel",
            "_view_count": null,
            "_view_module": "@jupyter-widgets/base",
            "_view_module_version": "1.2.0",
            "_view_name": "LayoutView",
            "align_content": null,
            "align_items": null,
            "align_self": null,
            "border": null,
            "bottom": null,
            "display": null,
            "flex": null,
            "flex_flow": null,
            "grid_area": null,
            "grid_auto_columns": null,
            "grid_auto_flow": null,
            "grid_auto_rows": null,
            "grid_column": null,
            "grid_gap": null,
            "grid_row": null,
            "grid_template_areas": null,
            "grid_template_columns": null,
            "grid_template_rows": null,
            "height": null,
            "justify_content": null,
            "justify_items": null,
            "left": null,
            "margin": null,
            "max_height": null,
            "max_width": null,
            "min_height": null,
            "min_width": null,
            "object_fit": null,
            "object_position": null,
            "order": null,
            "overflow": null,
            "overflow_x": null,
            "overflow_y": null,
            "padding": null,
            "right": null,
            "top": null,
            "visibility": null,
            "width": null
          }
        },
        "58b54bd3a31945a0825951c5af3552c5": {
          "model_module": "@jupyter-widgets/base",
          "model_module_version": "1.2.0",
          "model_name": "LayoutModel",
          "state": {
            "_model_module": "@jupyter-widgets/base",
            "_model_module_version": "1.2.0",
            "_model_name": "LayoutModel",
            "_view_count": null,
            "_view_module": "@jupyter-widgets/base",
            "_view_module_version": "1.2.0",
            "_view_name": "LayoutView",
            "align_content": null,
            "align_items": null,
            "align_self": null,
            "border": null,
            "bottom": null,
            "display": null,
            "flex": null,
            "flex_flow": null,
            "grid_area": null,
            "grid_auto_columns": null,
            "grid_auto_flow": null,
            "grid_auto_rows": null,
            "grid_column": null,
            "grid_gap": null,
            "grid_row": null,
            "grid_template_areas": null,
            "grid_template_columns": null,
            "grid_template_rows": null,
            "height": null,
            "justify_content": null,
            "justify_items": null,
            "left": null,
            "margin": null,
            "max_height": null,
            "max_width": null,
            "min_height": null,
            "min_width": null,
            "object_fit": null,
            "object_position": null,
            "order": null,
            "overflow": null,
            "overflow_x": null,
            "overflow_y": null,
            "padding": null,
            "right": null,
            "top": null,
            "visibility": null,
            "width": null
          }
        },
        "5941b4c4ae9c413897f45d5f4f9d4597": {
          "model_module": "@jupyter-widgets/controls",
          "model_module_version": "1.5.0",
          "model_name": "ProgressStyleModel",
          "state": {
            "_model_module": "@jupyter-widgets/controls",
            "_model_module_version": "1.5.0",
            "_model_name": "ProgressStyleModel",
            "_view_count": null,
            "_view_module": "@jupyter-widgets/base",
            "_view_module_version": "1.2.0",
            "_view_name": "StyleView",
            "bar_color": null,
            "description_width": ""
          }
        },
        "5e2feeb3f97b44d692766297b7380651": {
          "model_module": "@jupyter-widgets/controls",
          "model_module_version": "1.5.0",
          "model_name": "HBoxModel",
          "state": {
            "_dom_classes": [],
            "_model_module": "@jupyter-widgets/controls",
            "_model_module_version": "1.5.0",
            "_model_name": "HBoxModel",
            "_view_count": null,
            "_view_module": "@jupyter-widgets/controls",
            "_view_module_version": "1.5.0",
            "_view_name": "HBoxView",
            "box_style": "",
            "children": [
              "IPY_MODEL_3822196ab651491087caba6e46c65e23",
              "IPY_MODEL_77ad3b735efb4587b987da0d3779a16a",
              "IPY_MODEL_86593e3fc8ed4568bf5983b07c0e5e49"
            ],
            "layout": "IPY_MODEL_ae67067fa66c42bd9103b273bd2d599a"
          }
        },
        "728f67d08ef3464ebf0f3daad56eb382": {
          "model_module": "@jupyter-widgets/base",
          "model_module_version": "1.2.0",
          "model_name": "LayoutModel",
          "state": {
            "_model_module": "@jupyter-widgets/base",
            "_model_module_version": "1.2.0",
            "_model_name": "LayoutModel",
            "_view_count": null,
            "_view_module": "@jupyter-widgets/base",
            "_view_module_version": "1.2.0",
            "_view_name": "LayoutView",
            "align_content": null,
            "align_items": null,
            "align_self": null,
            "border": null,
            "bottom": null,
            "display": null,
            "flex": null,
            "flex_flow": null,
            "grid_area": null,
            "grid_auto_columns": null,
            "grid_auto_flow": null,
            "grid_auto_rows": null,
            "grid_column": null,
            "grid_gap": null,
            "grid_row": null,
            "grid_template_areas": null,
            "grid_template_columns": null,
            "grid_template_rows": null,
            "height": null,
            "justify_content": null,
            "justify_items": null,
            "left": null,
            "margin": null,
            "max_height": null,
            "max_width": null,
            "min_height": null,
            "min_width": null,
            "object_fit": null,
            "object_position": null,
            "order": null,
            "overflow": null,
            "overflow_x": null,
            "overflow_y": null,
            "padding": null,
            "right": null,
            "top": null,
            "visibility": null,
            "width": null
          }
        },
        "766d0074cb884ff396746f0fe6fe407d": {
          "model_module": "@jupyter-widgets/controls",
          "model_module_version": "1.5.0",
          "model_name": "FloatProgressModel",
          "state": {
            "_dom_classes": [],
            "_model_module": "@jupyter-widgets/controls",
            "_model_module_version": "1.5.0",
            "_model_name": "FloatProgressModel",
            "_view_count": null,
            "_view_module": "@jupyter-widgets/controls",
            "_view_module_version": "1.5.0",
            "_view_name": "ProgressView",
            "bar_style": "success",
            "description": "",
            "description_tooltip": null,
            "layout": "IPY_MODEL_44c6d667d6524007951c7672698fe899",
            "max": 4000,
            "min": 0,
            "orientation": "horizontal",
            "style": "IPY_MODEL_43932b1a17bf4f34a6dd2ace36e8f113",
            "value": 4000
          }
        },
        "77ad3b735efb4587b987da0d3779a16a": {
          "model_module": "@jupyter-widgets/controls",
          "model_module_version": "1.5.0",
          "model_name": "FloatProgressModel",
          "state": {
            "_dom_classes": [],
            "_model_module": "@jupyter-widgets/controls",
            "_model_module_version": "1.5.0",
            "_model_name": "FloatProgressModel",
            "_view_count": null,
            "_view_module": "@jupyter-widgets/controls",
            "_view_module_version": "1.5.0",
            "_view_name": "ProgressView",
            "bar_style": "success",
            "description": "",
            "description_tooltip": null,
            "layout": "IPY_MODEL_8ad0e803a9b3417d8abd024461d6c8be",
            "max": 4000,
            "min": 0,
            "orientation": "horizontal",
            "style": "IPY_MODEL_5941b4c4ae9c413897f45d5f4f9d4597",
            "value": 4000
          }
        },
        "7df6305ff0be441c8cccf4532bd0ced8": {
          "model_module": "@jupyter-widgets/base",
          "model_module_version": "1.2.0",
          "model_name": "LayoutModel",
          "state": {
            "_model_module": "@jupyter-widgets/base",
            "_model_module_version": "1.2.0",
            "_model_name": "LayoutModel",
            "_view_count": null,
            "_view_module": "@jupyter-widgets/base",
            "_view_module_version": "1.2.0",
            "_view_name": "LayoutView",
            "align_content": null,
            "align_items": null,
            "align_self": null,
            "border": null,
            "bottom": null,
            "display": null,
            "flex": null,
            "flex_flow": null,
            "grid_area": null,
            "grid_auto_columns": null,
            "grid_auto_flow": null,
            "grid_auto_rows": null,
            "grid_column": null,
            "grid_gap": null,
            "grid_row": null,
            "grid_template_areas": null,
            "grid_template_columns": null,
            "grid_template_rows": null,
            "height": null,
            "justify_content": null,
            "justify_items": null,
            "left": null,
            "margin": null,
            "max_height": null,
            "max_width": null,
            "min_height": null,
            "min_width": null,
            "object_fit": null,
            "object_position": null,
            "order": null,
            "overflow": null,
            "overflow_x": null,
            "overflow_y": null,
            "padding": null,
            "right": null,
            "top": null,
            "visibility": null,
            "width": null
          }
        },
        "8202535913e74abe83306e5b8a551c82": {
          "model_module": "@jupyter-widgets/base",
          "model_module_version": "1.2.0",
          "model_name": "LayoutModel",
          "state": {
            "_model_module": "@jupyter-widgets/base",
            "_model_module_version": "1.2.0",
            "_model_name": "LayoutModel",
            "_view_count": null,
            "_view_module": "@jupyter-widgets/base",
            "_view_module_version": "1.2.0",
            "_view_name": "LayoutView",
            "align_content": null,
            "align_items": null,
            "align_self": null,
            "border": null,
            "bottom": null,
            "display": null,
            "flex": null,
            "flex_flow": null,
            "grid_area": null,
            "grid_auto_columns": null,
            "grid_auto_flow": null,
            "grid_auto_rows": null,
            "grid_column": null,
            "grid_gap": null,
            "grid_row": null,
            "grid_template_areas": null,
            "grid_template_columns": null,
            "grid_template_rows": null,
            "height": null,
            "justify_content": null,
            "justify_items": null,
            "left": null,
            "margin": null,
            "max_height": null,
            "max_width": null,
            "min_height": null,
            "min_width": null,
            "object_fit": null,
            "object_position": null,
            "order": null,
            "overflow": null,
            "overflow_x": null,
            "overflow_y": null,
            "padding": null,
            "right": null,
            "top": null,
            "visibility": null,
            "width": null
          }
        },
        "852b8bc2238746f2a7b75bfafdb7781a": {
          "model_module": "@jupyter-widgets/controls",
          "model_module_version": "1.5.0",
          "model_name": "HTMLModel",
          "state": {
            "_dom_classes": [],
            "_model_module": "@jupyter-widgets/controls",
            "_model_module_version": "1.5.0",
            "_model_name": "HTMLModel",
            "_view_count": null,
            "_view_module": "@jupyter-widgets/controls",
            "_view_module_version": "1.5.0",
            "_view_name": "HTMLView",
            "description": "",
            "description_tooltip": null,
            "layout": "IPY_MODEL_58b54bd3a31945a0825951c5af3552c5",
            "placeholder": "​",
            "style": "IPY_MODEL_19739701ee284885837fb5a49f2567a0",
            "value": "Map: 100%"
          }
        },
        "86593e3fc8ed4568bf5983b07c0e5e49": {
          "model_module": "@jupyter-widgets/controls",
          "model_module_version": "1.5.0",
          "model_name": "HTMLModel",
          "state": {
            "_dom_classes": [],
            "_model_module": "@jupyter-widgets/controls",
            "_model_module_version": "1.5.0",
            "_model_name": "HTMLModel",
            "_view_count": null,
            "_view_module": "@jupyter-widgets/controls",
            "_view_module_version": "1.5.0",
            "_view_name": "HTMLView",
            "description": "",
            "description_tooltip": null,
            "layout": "IPY_MODEL_20fa9ce631d14d4582c5551684d211b8",
            "placeholder": "​",
            "style": "IPY_MODEL_02075feaedcc4d0a9a328123d3d9fa05",
            "value": " 4000/4000 [00:00&lt;00:00, 100535.82 examples/s]"
          }
        },
        "8ad0e803a9b3417d8abd024461d6c8be": {
          "model_module": "@jupyter-widgets/base",
          "model_module_version": "1.2.0",
          "model_name": "LayoutModel",
          "state": {
            "_model_module": "@jupyter-widgets/base",
            "_model_module_version": "1.2.0",
            "_model_name": "LayoutModel",
            "_view_count": null,
            "_view_module": "@jupyter-widgets/base",
            "_view_module_version": "1.2.0",
            "_view_name": "LayoutView",
            "align_content": null,
            "align_items": null,
            "align_self": null,
            "border": null,
            "bottom": null,
            "display": null,
            "flex": null,
            "flex_flow": null,
            "grid_area": null,
            "grid_auto_columns": null,
            "grid_auto_flow": null,
            "grid_auto_rows": null,
            "grid_column": null,
            "grid_gap": null,
            "grid_row": null,
            "grid_template_areas": null,
            "grid_template_columns": null,
            "grid_template_rows": null,
            "height": null,
            "justify_content": null,
            "justify_items": null,
            "left": null,
            "margin": null,
            "max_height": null,
            "max_width": null,
            "min_height": null,
            "min_width": null,
            "object_fit": null,
            "object_position": null,
            "order": null,
            "overflow": null,
            "overflow_x": null,
            "overflow_y": null,
            "padding": null,
            "right": null,
            "top": null,
            "visibility": null,
            "width": null
          }
        },
        "8e41a7d7d22d4bd48b24e0e1a1cf819a": {
          "model_module": "@jupyter-widgets/controls",
          "model_module_version": "1.5.0",
          "model_name": "DescriptionStyleModel",
          "state": {
            "_model_module": "@jupyter-widgets/controls",
            "_model_module_version": "1.5.0",
            "_model_name": "DescriptionStyleModel",
            "_view_count": null,
            "_view_module": "@jupyter-widgets/base",
            "_view_module_version": "1.2.0",
            "_view_name": "StyleView",
            "description_width": ""
          }
        },
        "ae67067fa66c42bd9103b273bd2d599a": {
          "model_module": "@jupyter-widgets/base",
          "model_module_version": "1.2.0",
          "model_name": "LayoutModel",
          "state": {
            "_model_module": "@jupyter-widgets/base",
            "_model_module_version": "1.2.0",
            "_model_name": "LayoutModel",
            "_view_count": null,
            "_view_module": "@jupyter-widgets/base",
            "_view_module_version": "1.2.0",
            "_view_name": "LayoutView",
            "align_content": null,
            "align_items": null,
            "align_self": null,
            "border": null,
            "bottom": null,
            "display": null,
            "flex": null,
            "flex_flow": null,
            "grid_area": null,
            "grid_auto_columns": null,
            "grid_auto_flow": null,
            "grid_auto_rows": null,
            "grid_column": null,
            "grid_gap": null,
            "grid_row": null,
            "grid_template_areas": null,
            "grid_template_columns": null,
            "grid_template_rows": null,
            "height": null,
            "justify_content": null,
            "justify_items": null,
            "left": null,
            "margin": null,
            "max_height": null,
            "max_width": null,
            "min_height": null,
            "min_width": null,
            "object_fit": null,
            "object_position": null,
            "order": null,
            "overflow": null,
            "overflow_x": null,
            "overflow_y": null,
            "padding": null,
            "right": null,
            "top": null,
            "visibility": null,
            "width": null
          }
        },
        "b1348924336c46c69796ac33317f4762": {
          "model_module": "@jupyter-widgets/controls",
          "model_module_version": "1.5.0",
          "model_name": "HBoxModel",
          "state": {
            "_dom_classes": [],
            "_model_module": "@jupyter-widgets/controls",
            "_model_module_version": "1.5.0",
            "_model_name": "HBoxModel",
            "_view_count": null,
            "_view_module": "@jupyter-widgets/controls",
            "_view_module_version": "1.5.0",
            "_view_name": "HBoxView",
            "box_style": "",
            "children": [
              "IPY_MODEL_852b8bc2238746f2a7b75bfafdb7781a",
              "IPY_MODEL_766d0074cb884ff396746f0fe6fe407d",
              "IPY_MODEL_2a1d68f7c81946488af561d42919f433"
            ],
            "layout": "IPY_MODEL_7df6305ff0be441c8cccf4532bd0ced8"
          }
        }
      }
    }
  },
  "nbformat": 4,
  "nbformat_minor": 0
}
