{
 "cells": [
  {
   "cell_type": "code",
   "execution_count": 7,
   "metadata": {},
   "outputs": [],
   "source": [
    "from nemo.collections.tts.models import FastPitchModel\n",
    "from nemo.collections.tts.models import HifiGanModel\n",
    "import soundfile as sf"
   ]
  },
  {
   "cell_type": "code",
   "execution_count": 9,
   "metadata": {},
   "outputs": [
    {
     "name": "stdout",
     "output_type": "stream",
     "text": [
      "[NeMo I 2024-12-10 14:33:00 cloud:58] Found existing object /home/kingdom/.cache/torch/NeMo/NeMo_2.0.0/tts_en_fastpitch_align/b7d086a07b5126c12d5077d9a641a38c/tts_en_fastpitch_align.nemo.\n",
      "[NeMo I 2024-12-10 14:33:00 cloud:64] Re-using file from: /home/kingdom/.cache/torch/NeMo/NeMo_2.0.0/tts_en_fastpitch_align/b7d086a07b5126c12d5077d9a641a38c/tts_en_fastpitch_align.nemo\n",
      "[NeMo I 2024-12-10 14:33:00 common:826] Instantiating model from pre-trained checkpoint\n"
     ]
    },
    {
     "name": "stderr",
     "output_type": "stream",
     "text": [
      " NeMo-text-processing :: INFO     :: Creating ClassifyFst grammars.\n",
      " NeMo-text-processing :: INFO     :: Creating ClassifyFst grammars.\n",
      "[NeMo E 2024-12-10 14:34:27 common:529] Model instantiation failed!\n",
      "    Target class:\tnemo.collections.tts.models.fastpitch.FastPitchModel\n",
      "    Error(s):\tError locating target 'nemo.collections.tts.torch.g2ps.EnglishG2p', set env var HYDRA_FULL_ERROR=1 to see chained exception.\n",
      "    full_key: text_tokenizer.g2p\n",
      "    Traceback (most recent call last):\n",
      "      File \"/mnt/45b9faff-45f3-43f2-903f-9b92a9a6338c/major-project/notebooks/tts/env/lib/python3.10/site-packages/hydra/_internal/utils.py\", line 644, in _locate\n",
      "        obj = getattr(obj, part)\n",
      "    AttributeError: module 'nemo.collections.tts.torch' has no attribute 'g2ps'\n",
      "    \n",
      "    During handling of the above exception, another exception occurred:\n",
      "    \n",
      "    Traceback (most recent call last):\n",
      "      File \"/mnt/45b9faff-45f3-43f2-903f-9b92a9a6338c/major-project/notebooks/tts/env/lib/python3.10/site-packages/hydra/_internal/utils.py\", line 650, in _locate\n",
      "        obj = import_module(mod)\n",
      "      File \"/usr/lib/python3.10/importlib/__init__.py\", line 126, in import_module\n",
      "        return _bootstrap._gcd_import(name[level:], package, level)\n",
      "      File \"<frozen importlib._bootstrap>\", line 1050, in _gcd_import\n",
      "      File \"<frozen importlib._bootstrap>\", line 1027, in _find_and_load\n",
      "      File \"<frozen importlib._bootstrap>\", line 1006, in _find_and_load_unlocked\n",
      "      File \"<frozen importlib._bootstrap>\", line 688, in _load_unlocked\n",
      "      File \"<frozen importlib._bootstrap_external>\", line 883, in exec_module\n",
      "      File \"<frozen importlib._bootstrap>\", line 241, in _call_with_frames_removed\n",
      "      File \"/mnt/45b9faff-45f3-43f2-903f-9b92a9a6338c/major-project/notebooks/tts/env/lib/python3.10/site-packages/nemo/collections/tts/torch/g2ps.py\", line 18, in <module>\n",
      "        from nemo.collections.tts.g2p.models.en_us_arpabet import EnglishG2p\n",
      "      File \"/mnt/45b9faff-45f3-43f2-903f-9b92a9a6338c/major-project/notebooks/tts/env/lib/python3.10/site-packages/nemo/collections/tts/g2p/models/en_us_arpabet.py\", line 21, in <module>\n",
      "        import nltk\n",
      "    ModuleNotFoundError: No module named 'nltk'\n",
      "    \n",
      "    The above exception was the direct cause of the following exception:\n",
      "    \n",
      "    Traceback (most recent call last):\n",
      "      File \"/mnt/45b9faff-45f3-43f2-903f-9b92a9a6338c/major-project/notebooks/tts/env/lib/python3.10/site-packages/hydra/_internal/instantiate/_instantiate2.py\", line 134, in _resolve_target\n",
      "        target = _locate(target)\n",
      "      File \"/mnt/45b9faff-45f3-43f2-903f-9b92a9a6338c/major-project/notebooks/tts/env/lib/python3.10/site-packages/hydra/_internal/utils.py\", line 653, in _locate\n",
      "        raise ImportError(\n",
      "    ImportError: Error loading 'nemo.collections.tts.torch.g2ps.EnglishG2p':\n",
      "    ModuleNotFoundError(\"No module named 'nltk'\")\n",
      "    Are you sure that 'g2ps' is importable from module 'nemo.collections.tts.torch'?\n",
      "    \n",
      "    The above exception was the direct cause of the following exception:\n",
      "    \n",
      "    Traceback (most recent call last):\n",
      "      File \"/mnt/45b9faff-45f3-43f2-903f-9b92a9a6338c/major-project/notebooks/tts/env/lib/python3.10/site-packages/nemo/core/classes/common.py\", line 508, in from_config_dict\n",
      "        instance = imported_cls(cfg=config, trainer=trainer)\n",
      "      File \"/mnt/45b9faff-45f3-43f2-903f-9b92a9a6338c/major-project/notebooks/tts/env/lib/python3.10/site-packages/nemo/collections/tts/models/fastpitch.py\", line 111, in __init__\n",
      "        self._setup_tokenizer(cfg)\n",
      "      File \"/mnt/45b9faff-45f3-43f2-903f-9b92a9a6338c/major-project/notebooks/tts/env/lib/python3.10/site-packages/nemo/collections/tts/models/fastpitch.py\", line 252, in _setup_tokenizer\n",
      "        text_tokenizer_kwargs[\"g2p\"] = instantiate(cfg.text_tokenizer.g2p, **g2p_kwargs)\n",
      "      File \"/mnt/45b9faff-45f3-43f2-903f-9b92a9a6338c/major-project/notebooks/tts/env/lib/python3.10/site-packages/hydra/_internal/instantiate/_instantiate2.py\", line 226, in instantiate\n",
      "        return instantiate_node(\n",
      "      File \"/mnt/45b9faff-45f3-43f2-903f-9b92a9a6338c/major-project/notebooks/tts/env/lib/python3.10/site-packages/hydra/_internal/instantiate/_instantiate2.py\", line 333, in instantiate_node\n",
      "        _target_ = _resolve_target(node.get(_Keys.TARGET), full_key)\n",
      "      File \"/mnt/45b9faff-45f3-43f2-903f-9b92a9a6338c/major-project/notebooks/tts/env/lib/python3.10/site-packages/hydra/_internal/instantiate/_instantiate2.py\", line 139, in _resolve_target\n",
      "        raise InstantiationException(msg) from e\n",
      "    hydra.errors.InstantiationException: Error locating target 'nemo.collections.tts.torch.g2ps.EnglishG2p', set env var HYDRA_FULL_ERROR=1 to see chained exception.\n",
      "    full_key: text_tokenizer.g2p\n",
      "    \n"
     ]
    },
    {
     "ename": "InstantiationException",
     "evalue": "Error locating target 'nemo.collections.tts.torch.g2ps.EnglishG2p', set env var HYDRA_FULL_ERROR=1 to see chained exception.\nfull_key: text_tokenizer.g2p",
     "output_type": "error",
     "traceback": [
      "\u001b[0;31m---------------------------------------------------------------------------\u001b[0m",
      "\u001b[0;31mAttributeError\u001b[0m                            Traceback (most recent call last)",
      "File \u001b[0;32m/mnt/45b9faff-45f3-43f2-903f-9b92a9a6338c/major-project/notebooks/tts/env/lib/python3.10/site-packages/hydra/_internal/utils.py:644\u001b[0m, in \u001b[0;36m_locate\u001b[0;34m(path)\u001b[0m\n\u001b[1;32m    643\u001b[0m \u001b[38;5;28;01mtry\u001b[39;00m:\n\u001b[0;32m--> 644\u001b[0m     obj \u001b[38;5;241m=\u001b[39m \u001b[38;5;28;43mgetattr\u001b[39;49m\u001b[43m(\u001b[49m\u001b[43mobj\u001b[49m\u001b[43m,\u001b[49m\u001b[43m \u001b[49m\u001b[43mpart\u001b[49m\u001b[43m)\u001b[49m\n\u001b[1;32m    645\u001b[0m \u001b[38;5;28;01mexcept\u001b[39;00m \u001b[38;5;167;01mAttributeError\u001b[39;00m \u001b[38;5;28;01mas\u001b[39;00m exc_attr:\n",
      "\u001b[0;31mAttributeError\u001b[0m: module 'nemo.collections.tts.torch' has no attribute 'g2ps'",
      "\nDuring handling of the above exception, another exception occurred:\n",
      "\u001b[0;31mModuleNotFoundError\u001b[0m                       Traceback (most recent call last)",
      "File \u001b[0;32m/mnt/45b9faff-45f3-43f2-903f-9b92a9a6338c/major-project/notebooks/tts/env/lib/python3.10/site-packages/hydra/_internal/utils.py:650\u001b[0m, in \u001b[0;36m_locate\u001b[0;34m(path)\u001b[0m\n\u001b[1;32m    649\u001b[0m \u001b[38;5;28;01mtry\u001b[39;00m:\n\u001b[0;32m--> 650\u001b[0m     obj \u001b[38;5;241m=\u001b[39m \u001b[43mimport_module\u001b[49m\u001b[43m(\u001b[49m\u001b[43mmod\u001b[49m\u001b[43m)\u001b[49m\n\u001b[1;32m    651\u001b[0m     \u001b[38;5;28;01mcontinue\u001b[39;00m\n",
      "File \u001b[0;32m/usr/lib/python3.10/importlib/__init__.py:126\u001b[0m, in \u001b[0;36mimport_module\u001b[0;34m(name, package)\u001b[0m\n\u001b[1;32m    125\u001b[0m         level \u001b[38;5;241m+\u001b[39m\u001b[38;5;241m=\u001b[39m \u001b[38;5;241m1\u001b[39m\n\u001b[0;32m--> 126\u001b[0m \u001b[38;5;28;01mreturn\u001b[39;00m \u001b[43m_bootstrap\u001b[49m\u001b[38;5;241;43m.\u001b[39;49m\u001b[43m_gcd_import\u001b[49m\u001b[43m(\u001b[49m\u001b[43mname\u001b[49m\u001b[43m[\u001b[49m\u001b[43mlevel\u001b[49m\u001b[43m:\u001b[49m\u001b[43m]\u001b[49m\u001b[43m,\u001b[49m\u001b[43m \u001b[49m\u001b[43mpackage\u001b[49m\u001b[43m,\u001b[49m\u001b[43m \u001b[49m\u001b[43mlevel\u001b[49m\u001b[43m)\u001b[49m\n",
      "File \u001b[0;32m<frozen importlib._bootstrap>:1050\u001b[0m, in \u001b[0;36m_gcd_import\u001b[0;34m(name, package, level)\u001b[0m\n",
      "File \u001b[0;32m<frozen importlib._bootstrap>:1027\u001b[0m, in \u001b[0;36m_find_and_load\u001b[0;34m(name, import_)\u001b[0m\n",
      "File \u001b[0;32m<frozen importlib._bootstrap>:1006\u001b[0m, in \u001b[0;36m_find_and_load_unlocked\u001b[0;34m(name, import_)\u001b[0m\n",
      "File \u001b[0;32m<frozen importlib._bootstrap>:688\u001b[0m, in \u001b[0;36m_load_unlocked\u001b[0;34m(spec)\u001b[0m\n",
      "File \u001b[0;32m<frozen importlib._bootstrap_external>:883\u001b[0m, in \u001b[0;36mexec_module\u001b[0;34m(self, module)\u001b[0m\n",
      "File \u001b[0;32m<frozen importlib._bootstrap>:241\u001b[0m, in \u001b[0;36m_call_with_frames_removed\u001b[0;34m(f, *args, **kwds)\u001b[0m\n",
      "File \u001b[0;32m/mnt/45b9faff-45f3-43f2-903f-9b92a9a6338c/major-project/notebooks/tts/env/lib/python3.10/site-packages/nemo/collections/tts/torch/g2ps.py:18\u001b[0m\n\u001b[1;32m      1\u001b[0m \u001b[38;5;66;03m# Copyright (c) 2022, NVIDIA CORPORATION & AFFILIATES.  All rights reserved.\u001b[39;00m\n\u001b[1;32m      2\u001b[0m \u001b[38;5;66;03m#\u001b[39;00m\n\u001b[1;32m      3\u001b[0m \u001b[38;5;66;03m# Licensed under the Apache License, Version 2.0 (the \"License\");\u001b[39;00m\n\u001b[0;32m   (...)\u001b[0m\n\u001b[1;32m     16\u001b[0m \u001b[38;5;66;03m#  and before NeMo 1.16.0 used this import path. We will remove this file soon; `IPAG2P` will be also renamed as\u001b[39;00m\n\u001b[1;32m     17\u001b[0m \u001b[38;5;66;03m#  `IpaG2p`. Please start using new import path and the new `IpaG2p` name from NeMo 1.16.0.\u001b[39;00m\n\u001b[0;32m---> 18\u001b[0m \u001b[38;5;28;01mfrom\u001b[39;00m \u001b[38;5;21;01mnemo\u001b[39;00m\u001b[38;5;21;01m.\u001b[39;00m\u001b[38;5;21;01mcollections\u001b[39;00m\u001b[38;5;21;01m.\u001b[39;00m\u001b[38;5;21;01mtts\u001b[39;00m\u001b[38;5;21;01m.\u001b[39;00m\u001b[38;5;21;01mg2p\u001b[39;00m\u001b[38;5;21;01m.\u001b[39;00m\u001b[38;5;21;01mmodels\u001b[39;00m\u001b[38;5;21;01m.\u001b[39;00m\u001b[38;5;21;01men_us_arpabet\u001b[39;00m \u001b[38;5;28;01mimport\u001b[39;00m EnglishG2p\n\u001b[1;32m     19\u001b[0m \u001b[38;5;28;01mfrom\u001b[39;00m \u001b[38;5;21;01mnemo\u001b[39;00m\u001b[38;5;21;01m.\u001b[39;00m\u001b[38;5;21;01mcollections\u001b[39;00m\u001b[38;5;21;01m.\u001b[39;00m\u001b[38;5;21;01mtts\u001b[39;00m\u001b[38;5;21;01m.\u001b[39;00m\u001b[38;5;21;01mg2p\u001b[39;00m\u001b[38;5;21;01m.\u001b[39;00m\u001b[38;5;21;01mmodels\u001b[39;00m\u001b[38;5;21;01m.\u001b[39;00m\u001b[38;5;21;01mi18n_ipa\u001b[39;00m \u001b[38;5;28;01mimport\u001b[39;00m IpaG2p \u001b[38;5;28;01mas\u001b[39;00m IPAG2P\n",
      "File \u001b[0;32m/mnt/45b9faff-45f3-43f2-903f-9b92a9a6338c/major-project/notebooks/tts/env/lib/python3.10/site-packages/nemo/collections/tts/g2p/models/en_us_arpabet.py:21\u001b[0m\n\u001b[1;32m     19\u001b[0m \u001b[38;5;28;01mfrom\u001b[39;00m \u001b[38;5;21;01mtyping\u001b[39;00m \u001b[38;5;28;01mimport\u001b[39;00m Optional\n\u001b[0;32m---> 21\u001b[0m \u001b[38;5;28;01mimport\u001b[39;00m \u001b[38;5;21;01mnltk\u001b[39;00m\n\u001b[1;32m     22\u001b[0m \u001b[38;5;28;01mimport\u001b[39;00m \u001b[38;5;21;01mtorch\u001b[39;00m\n",
      "\u001b[0;31mModuleNotFoundError\u001b[0m: No module named 'nltk'",
      "\nThe above exception was the direct cause of the following exception:\n",
      "\u001b[0;31mImportError\u001b[0m                               Traceback (most recent call last)",
      "File \u001b[0;32m/mnt/45b9faff-45f3-43f2-903f-9b92a9a6338c/major-project/notebooks/tts/env/lib/python3.10/site-packages/hydra/_internal/instantiate/_instantiate2.py:134\u001b[0m, in \u001b[0;36m_resolve_target\u001b[0;34m(target, full_key)\u001b[0m\n\u001b[1;32m    133\u001b[0m \u001b[38;5;28;01mtry\u001b[39;00m:\n\u001b[0;32m--> 134\u001b[0m     target \u001b[38;5;241m=\u001b[39m \u001b[43m_locate\u001b[49m\u001b[43m(\u001b[49m\u001b[43mtarget\u001b[49m\u001b[43m)\u001b[49m\n\u001b[1;32m    135\u001b[0m \u001b[38;5;28;01mexcept\u001b[39;00m \u001b[38;5;167;01mException\u001b[39;00m \u001b[38;5;28;01mas\u001b[39;00m e:\n",
      "File \u001b[0;32m/mnt/45b9faff-45f3-43f2-903f-9b92a9a6338c/major-project/notebooks/tts/env/lib/python3.10/site-packages/hydra/_internal/utils.py:653\u001b[0m, in \u001b[0;36m_locate\u001b[0;34m(path)\u001b[0m\n\u001b[1;32m    652\u001b[0m \u001b[38;5;28;01mexcept\u001b[39;00m \u001b[38;5;167;01mModuleNotFoundError\u001b[39;00m \u001b[38;5;28;01mas\u001b[39;00m exc_import:\n\u001b[0;32m--> 653\u001b[0m     \u001b[38;5;28;01mraise\u001b[39;00m \u001b[38;5;167;01mImportError\u001b[39;00m(\n\u001b[1;32m    654\u001b[0m         \u001b[38;5;124mf\u001b[39m\u001b[38;5;124m\"\u001b[39m\u001b[38;5;124mError loading \u001b[39m\u001b[38;5;124m'\u001b[39m\u001b[38;5;132;01m{\u001b[39;00mpath\u001b[38;5;132;01m}\u001b[39;00m\u001b[38;5;124m'\u001b[39m\u001b[38;5;124m:\u001b[39m\u001b[38;5;130;01m\\n\u001b[39;00m\u001b[38;5;132;01m{\u001b[39;00m\u001b[38;5;28mrepr\u001b[39m(exc_import)\u001b[38;5;132;01m}\u001b[39;00m\u001b[38;5;124m\"\u001b[39m\n\u001b[1;32m    655\u001b[0m         \u001b[38;5;241m+\u001b[39m \u001b[38;5;124mf\u001b[39m\u001b[38;5;124m\"\u001b[39m\u001b[38;5;130;01m\\n\u001b[39;00m\u001b[38;5;124mAre you sure that \u001b[39m\u001b[38;5;124m'\u001b[39m\u001b[38;5;132;01m{\u001b[39;00mpart\u001b[38;5;132;01m}\u001b[39;00m\u001b[38;5;124m'\u001b[39m\u001b[38;5;124m is importable from module \u001b[39m\u001b[38;5;124m'\u001b[39m\u001b[38;5;132;01m{\u001b[39;00mparent_dotpath\u001b[38;5;132;01m}\u001b[39;00m\u001b[38;5;124m'\u001b[39m\u001b[38;5;124m?\u001b[39m\u001b[38;5;124m\"\u001b[39m\n\u001b[1;32m    656\u001b[0m     ) \u001b[38;5;28;01mfrom\u001b[39;00m \u001b[38;5;21;01mexc_import\u001b[39;00m\n\u001b[1;32m    657\u001b[0m \u001b[38;5;28;01mexcept\u001b[39;00m \u001b[38;5;167;01mException\u001b[39;00m \u001b[38;5;28;01mas\u001b[39;00m exc_import:\n",
      "\u001b[0;31mImportError\u001b[0m: Error loading 'nemo.collections.tts.torch.g2ps.EnglishG2p':\nModuleNotFoundError(\"No module named 'nltk'\")\nAre you sure that 'g2ps' is importable from module 'nemo.collections.tts.torch'?",
      "\nThe above exception was the direct cause of the following exception:\n",
      "\u001b[0;31mInstantiationException\u001b[0m                    Traceback (most recent call last)",
      "Cell \u001b[0;32mIn[9], line 2\u001b[0m\n\u001b[1;32m      1\u001b[0m \u001b[38;5;66;03m# Load pretrained F5 TTS model\u001b[39;00m\n\u001b[0;32m----> 2\u001b[0m fastpitch_model \u001b[38;5;241m=\u001b[39m \u001b[43mFastPitchModel\u001b[49m\u001b[38;5;241;43m.\u001b[39;49m\u001b[43mfrom_pretrained\u001b[49m\u001b[43m(\u001b[49m\u001b[38;5;124;43m\"\u001b[39;49m\u001b[38;5;124;43mtts_en_fastpitch\u001b[39;49m\u001b[38;5;124;43m\"\u001b[39;49m\u001b[43m)\u001b[49m\n\u001b[1;32m      3\u001b[0m vocoder \u001b[38;5;241m=\u001b[39m HifiGanModel\u001b[38;5;241m.\u001b[39mfrom_pretrained(\u001b[38;5;124m\"\u001b[39m\u001b[38;5;124mtts_hifigan\u001b[39m\u001b[38;5;124m\"\u001b[39m)\n",
      "File \u001b[0;32m/mnt/45b9faff-45f3-43f2-903f-9b92a9a6338c/major-project/notebooks/tts/env/lib/python3.10/site-packages/nemo/core/classes/common.py:765\u001b[0m, in \u001b[0;36mModel.from_pretrained\u001b[0;34m(cls, model_name, refresh_cache, override_config_path, map_location, strict, return_config, trainer, save_restore_connector, return_model_file)\u001b[0m\n\u001b[1;32m    762\u001b[0m \u001b[38;5;28;01mif\u001b[39;00m return_model_file:\n\u001b[1;32m    763\u001b[0m     \u001b[38;5;28;01mreturn\u001b[39;00m nemo_model_file_in_cache\n\u001b[0;32m--> 765\u001b[0m instance \u001b[38;5;241m=\u001b[39m \u001b[43mclass_\u001b[49m\u001b[38;5;241;43m.\u001b[39;49m\u001b[43mrestore_from\u001b[49m\u001b[43m(\u001b[49m\n\u001b[1;32m    766\u001b[0m \u001b[43m    \u001b[49m\u001b[43mrestore_path\u001b[49m\u001b[38;5;241;43m=\u001b[39;49m\u001b[43mnemo_model_file_in_cache\u001b[49m\u001b[43m,\u001b[49m\n\u001b[1;32m    767\u001b[0m \u001b[43m    \u001b[49m\u001b[43moverride_config_path\u001b[49m\u001b[38;5;241;43m=\u001b[39;49m\u001b[43moverride_config_path\u001b[49m\u001b[43m,\u001b[49m\n\u001b[1;32m    768\u001b[0m \u001b[43m    \u001b[49m\u001b[43mmap_location\u001b[49m\u001b[38;5;241;43m=\u001b[39;49m\u001b[43mmap_location\u001b[49m\u001b[43m,\u001b[49m\n\u001b[1;32m    769\u001b[0m \u001b[43m    \u001b[49m\u001b[43mstrict\u001b[49m\u001b[38;5;241;43m=\u001b[39;49m\u001b[43mstrict\u001b[49m\u001b[43m,\u001b[49m\n\u001b[1;32m    770\u001b[0m \u001b[43m    \u001b[49m\u001b[43mreturn_config\u001b[49m\u001b[38;5;241;43m=\u001b[39;49m\u001b[43mreturn_config\u001b[49m\u001b[43m,\u001b[49m\n\u001b[1;32m    771\u001b[0m \u001b[43m    \u001b[49m\u001b[43mtrainer\u001b[49m\u001b[38;5;241;43m=\u001b[39;49m\u001b[43mtrainer\u001b[49m\u001b[43m,\u001b[49m\n\u001b[1;32m    772\u001b[0m \u001b[43m    \u001b[49m\u001b[43msave_restore_connector\u001b[49m\u001b[38;5;241;43m=\u001b[39;49m\u001b[43msave_restore_connector\u001b[49m\u001b[43m,\u001b[49m\n\u001b[1;32m    773\u001b[0m \u001b[43m\u001b[49m\u001b[43m)\u001b[49m\n\u001b[1;32m    774\u001b[0m \u001b[38;5;28;01mreturn\u001b[39;00m instance\n",
      "File \u001b[0;32m/mnt/45b9faff-45f3-43f2-903f-9b92a9a6338c/major-project/notebooks/tts/env/lib/python3.10/site-packages/nemo/core/classes/modelPT.py:468\u001b[0m, in \u001b[0;36mModelPT.restore_from\u001b[0;34m(cls, restore_path, override_config_path, map_location, strict, return_config, save_restore_connector, trainer, validate_access_integrity)\u001b[0m\n\u001b[1;32m    465\u001b[0m app_state\u001b[38;5;241m.\u001b[39mmodel_restore_path \u001b[38;5;241m=\u001b[39m restore_path\n\u001b[1;32m    467\u001b[0m \u001b[38;5;28mcls\u001b[39m\u001b[38;5;241m.\u001b[39mupdate_save_restore_connector(save_restore_connector)\n\u001b[0;32m--> 468\u001b[0m instance \u001b[38;5;241m=\u001b[39m \u001b[38;5;28;43mcls\u001b[39;49m\u001b[38;5;241;43m.\u001b[39;49m\u001b[43m_save_restore_connector\u001b[49m\u001b[38;5;241;43m.\u001b[39;49m\u001b[43mrestore_from\u001b[49m\u001b[43m(\u001b[49m\n\u001b[1;32m    469\u001b[0m \u001b[43m    \u001b[49m\u001b[38;5;28;43mcls\u001b[39;49m\u001b[43m,\u001b[49m\n\u001b[1;32m    470\u001b[0m \u001b[43m    \u001b[49m\u001b[43mrestore_path\u001b[49m\u001b[43m,\u001b[49m\n\u001b[1;32m    471\u001b[0m \u001b[43m    \u001b[49m\u001b[43moverride_config_path\u001b[49m\u001b[43m,\u001b[49m\n\u001b[1;32m    472\u001b[0m \u001b[43m    \u001b[49m\u001b[43mmap_location\u001b[49m\u001b[43m,\u001b[49m\n\u001b[1;32m    473\u001b[0m \u001b[43m    \u001b[49m\u001b[43mstrict\u001b[49m\u001b[43m,\u001b[49m\n\u001b[1;32m    474\u001b[0m \u001b[43m    \u001b[49m\u001b[43mreturn_config\u001b[49m\u001b[43m,\u001b[49m\n\u001b[1;32m    475\u001b[0m \u001b[43m    \u001b[49m\u001b[43mtrainer\u001b[49m\u001b[43m,\u001b[49m\n\u001b[1;32m    476\u001b[0m \u001b[43m    \u001b[49m\u001b[43mvalidate_access_integrity\u001b[49m\u001b[43m,\u001b[49m\n\u001b[1;32m    477\u001b[0m \u001b[43m\u001b[49m\u001b[43m)\u001b[49m\n\u001b[1;32m    478\u001b[0m \u001b[38;5;28;01mif\u001b[39;00m \u001b[38;5;28misinstance\u001b[39m(instance, ModelPT):\n\u001b[1;32m    479\u001b[0m     instance\u001b[38;5;241m.\u001b[39m_save_restore_connector \u001b[38;5;241m=\u001b[39m save_restore_connector\n",
      "File \u001b[0;32m/mnt/45b9faff-45f3-43f2-903f-9b92a9a6338c/major-project/notebooks/tts/env/lib/python3.10/site-packages/nemo/core/connectors/save_restore_connector.py:260\u001b[0m, in \u001b[0;36mSaveRestoreConnector.restore_from\u001b[0;34m(self, calling_cls, restore_path, override_config_path, map_location, strict, return_config, trainer, validate_access_integrity)\u001b[0m\n\u001b[1;32m    235\u001b[0m \u001b[38;5;250m\u001b[39m\u001b[38;5;124;03m\"\"\"\u001b[39;00m\n\u001b[1;32m    236\u001b[0m \u001b[38;5;124;03mRestores model instance (weights and configuration) into .nemo file\u001b[39;00m\n\u001b[1;32m    237\u001b[0m \n\u001b[0;32m   (...)\u001b[0m\n\u001b[1;32m    256\u001b[0m \u001b[38;5;124;03m    An instance of type cls or its underlying config (if return_config is set).\u001b[39;00m\n\u001b[1;32m    257\u001b[0m \u001b[38;5;124;03m\"\"\"\u001b[39;00m\n\u001b[1;32m    258\u001b[0m \u001b[38;5;66;03m# Get path where the command is executed - the artifacts will be \"retrieved\" there\u001b[39;00m\n\u001b[1;32m    259\u001b[0m \u001b[38;5;66;03m# (original .nemo behavior)\u001b[39;00m\n\u001b[0;32m--> 260\u001b[0m loaded_params \u001b[38;5;241m=\u001b[39m \u001b[38;5;28;43mself\u001b[39;49m\u001b[38;5;241;43m.\u001b[39;49m\u001b[43mload_config_and_state_dict\u001b[49m\u001b[43m(\u001b[49m\n\u001b[1;32m    261\u001b[0m \u001b[43m    \u001b[49m\u001b[43mcalling_cls\u001b[49m\u001b[43m,\u001b[49m\n\u001b[1;32m    262\u001b[0m \u001b[43m    \u001b[49m\u001b[43mrestore_path\u001b[49m\u001b[43m,\u001b[49m\n\u001b[1;32m    263\u001b[0m \u001b[43m    \u001b[49m\u001b[43moverride_config_path\u001b[49m\u001b[43m,\u001b[49m\n\u001b[1;32m    264\u001b[0m \u001b[43m    \u001b[49m\u001b[43mmap_location\u001b[49m\u001b[43m,\u001b[49m\n\u001b[1;32m    265\u001b[0m \u001b[43m    \u001b[49m\u001b[43mstrict\u001b[49m\u001b[43m,\u001b[49m\n\u001b[1;32m    266\u001b[0m \u001b[43m    \u001b[49m\u001b[43mreturn_config\u001b[49m\u001b[43m,\u001b[49m\n\u001b[1;32m    267\u001b[0m \u001b[43m    \u001b[49m\u001b[43mtrainer\u001b[49m\u001b[43m,\u001b[49m\n\u001b[1;32m    268\u001b[0m \u001b[43m    \u001b[49m\u001b[43mvalidate_access_integrity\u001b[49m\u001b[43m,\u001b[49m\n\u001b[1;32m    269\u001b[0m \u001b[43m\u001b[49m\u001b[43m)\u001b[49m\n\u001b[1;32m    270\u001b[0m \u001b[38;5;28;01mif\u001b[39;00m \u001b[38;5;129;01mnot\u001b[39;00m \u001b[38;5;28misinstance\u001b[39m(loaded_params, \u001b[38;5;28mtuple\u001b[39m) \u001b[38;5;129;01mor\u001b[39;00m return_config \u001b[38;5;129;01mis\u001b[39;00m \u001b[38;5;28;01mTrue\u001b[39;00m:\n\u001b[1;32m    271\u001b[0m     \u001b[38;5;28;01mreturn\u001b[39;00m loaded_params\n",
      "File \u001b[0;32m/mnt/45b9faff-45f3-43f2-903f-9b92a9a6338c/major-project/notebooks/tts/env/lib/python3.10/site-packages/nemo/core/connectors/save_restore_connector.py:182\u001b[0m, in \u001b[0;36mSaveRestoreConnector.load_config_and_state_dict\u001b[0;34m(self, calling_cls, restore_path, override_config_path, map_location, strict, return_config, trainer, validate_access_integrity)\u001b[0m\n\u001b[1;32m    180\u001b[0m \u001b[38;5;66;03m# get the class\u001b[39;00m\n\u001b[1;32m    181\u001b[0m calling_cls\u001b[38;5;241m.\u001b[39m_set_model_restore_state(is_being_restored\u001b[38;5;241m=\u001b[39m\u001b[38;5;28;01mTrue\u001b[39;00m, folder\u001b[38;5;241m=\u001b[39mtmpdir)\n\u001b[0;32m--> 182\u001b[0m instance \u001b[38;5;241m=\u001b[39m \u001b[43mcalling_cls\u001b[49m\u001b[38;5;241;43m.\u001b[39;49m\u001b[43mfrom_config_dict\u001b[49m\u001b[43m(\u001b[49m\u001b[43mconfig\u001b[49m\u001b[38;5;241;43m=\u001b[39;49m\u001b[43mconf\u001b[49m\u001b[43m,\u001b[49m\u001b[43m \u001b[49m\u001b[43mtrainer\u001b[49m\u001b[38;5;241;43m=\u001b[39;49m\u001b[43mtrainer\u001b[49m\u001b[43m)\u001b[49m\n\u001b[1;32m    183\u001b[0m instance \u001b[38;5;241m=\u001b[39m instance\u001b[38;5;241m.\u001b[39mto(map_location)\n\u001b[1;32m    184\u001b[0m \u001b[38;5;66;03m# add load_state_dict override\u001b[39;00m\n",
      "File \u001b[0;32m/mnt/45b9faff-45f3-43f2-903f-9b92a9a6338c/major-project/notebooks/tts/env/lib/python3.10/site-packages/nemo/core/classes/common.py:530\u001b[0m, in \u001b[0;36mSerialization.from_config_dict\u001b[0;34m(cls, config, trainer)\u001b[0m\n\u001b[1;32m    528\u001b[0m             \u001b[38;5;28;01mif\u001b[39;00m prev_error:\n\u001b[1;32m    529\u001b[0m                 logging\u001b[38;5;241m.\u001b[39merror(prev_error)\n\u001b[0;32m--> 530\u001b[0m             \u001b[38;5;28;01mraise\u001b[39;00m e\n\u001b[1;32m    532\u001b[0m \u001b[38;5;28;01mif\u001b[39;00m \u001b[38;5;129;01mnot\u001b[39;00m \u001b[38;5;28mhasattr\u001b[39m(instance, \u001b[38;5;124m'\u001b[39m\u001b[38;5;124m_cfg\u001b[39m\u001b[38;5;124m'\u001b[39m):\n\u001b[1;32m    533\u001b[0m     instance\u001b[38;5;241m.\u001b[39m_cfg \u001b[38;5;241m=\u001b[39m config\n",
      "File \u001b[0;32m/mnt/45b9faff-45f3-43f2-903f-9b92a9a6338c/major-project/notebooks/tts/env/lib/python3.10/site-packages/nemo/core/classes/common.py:522\u001b[0m, in \u001b[0;36mSerialization.from_config_dict\u001b[0;34m(cls, config, trainer)\u001b[0m\n\u001b[1;32m    520\u001b[0m accepts_trainer \u001b[38;5;241m=\u001b[39m Serialization\u001b[38;5;241m.\u001b[39m_inspect_signature_for_trainer(\u001b[38;5;28mcls\u001b[39m)\n\u001b[1;32m    521\u001b[0m \u001b[38;5;28;01mif\u001b[39;00m accepts_trainer:\n\u001b[0;32m--> 522\u001b[0m     instance \u001b[38;5;241m=\u001b[39m \u001b[38;5;28;43mcls\u001b[39;49m\u001b[43m(\u001b[49m\u001b[43mcfg\u001b[49m\u001b[38;5;241;43m=\u001b[39;49m\u001b[43mconfig\u001b[49m\u001b[43m,\u001b[49m\u001b[43m \u001b[49m\u001b[43mtrainer\u001b[49m\u001b[38;5;241;43m=\u001b[39;49m\u001b[43mtrainer\u001b[49m\u001b[43m)\u001b[49m\n\u001b[1;32m    523\u001b[0m \u001b[38;5;28;01melse\u001b[39;00m:\n\u001b[1;32m    524\u001b[0m     instance \u001b[38;5;241m=\u001b[39m \u001b[38;5;28mcls\u001b[39m(cfg\u001b[38;5;241m=\u001b[39mconfig)\n",
      "File \u001b[0;32m/mnt/45b9faff-45f3-43f2-903f-9b92a9a6338c/major-project/notebooks/tts/env/lib/python3.10/site-packages/nemo/collections/tts/models/fastpitch.py:111\u001b[0m, in \u001b[0;36mFastPitchModel.__init__\u001b[0;34m(self, cfg, trainer)\u001b[0m\n\u001b[1;32m    104\u001b[0m \u001b[38;5;28;01mif\u001b[39;00m \u001b[38;5;129;01mnot\u001b[39;00m \u001b[38;5;28mself\u001b[39m\u001b[38;5;241m.\u001b[39mds_class \u001b[38;5;129;01min\u001b[39;00m [\n\u001b[1;32m    105\u001b[0m     \u001b[38;5;124m\"\u001b[39m\u001b[38;5;124mnemo.collections.tts.data.dataset.TTSDataset\u001b[39m\u001b[38;5;124m\"\u001b[39m,\n\u001b[1;32m    106\u001b[0m     \u001b[38;5;124m\"\u001b[39m\u001b[38;5;124mnemo.collections.tts.data.text_to_speech_dataset.TextToSpeechDataset\u001b[39m\u001b[38;5;124m\"\u001b[39m,\n\u001b[1;32m    107\u001b[0m     \u001b[38;5;124m\"\u001b[39m\u001b[38;5;124mnemo.collections.tts.torch.data.TTSDataset\u001b[39m\u001b[38;5;124m\"\u001b[39m,\n\u001b[1;32m    108\u001b[0m ]:\n\u001b[1;32m    109\u001b[0m     \u001b[38;5;28;01mraise\u001b[39;00m \u001b[38;5;167;01mValueError\u001b[39;00m(\u001b[38;5;124mf\u001b[39m\u001b[38;5;124m\"\u001b[39m\u001b[38;5;124mUnknown dataset class: \u001b[39m\u001b[38;5;132;01m{\u001b[39;00m\u001b[38;5;28mself\u001b[39m\u001b[38;5;241m.\u001b[39mds_class\u001b[38;5;132;01m}\u001b[39;00m\u001b[38;5;124m.\u001b[39m\u001b[38;5;124m\"\u001b[39m)\n\u001b[0;32m--> 111\u001b[0m \u001b[38;5;28;43mself\u001b[39;49m\u001b[38;5;241;43m.\u001b[39;49m\u001b[43m_setup_tokenizer\u001b[49m\u001b[43m(\u001b[49m\u001b[43mcfg\u001b[49m\u001b[43m)\u001b[49m\n\u001b[1;32m    112\u001b[0m \u001b[38;5;28;01massert\u001b[39;00m \u001b[38;5;28mself\u001b[39m\u001b[38;5;241m.\u001b[39mvocab \u001b[38;5;129;01mis\u001b[39;00m \u001b[38;5;129;01mnot\u001b[39;00m \u001b[38;5;28;01mNone\u001b[39;00m\n\u001b[1;32m    113\u001b[0m input_fft_kwargs[\u001b[38;5;124m\"\u001b[39m\u001b[38;5;124mn_embed\u001b[39m\u001b[38;5;124m\"\u001b[39m] \u001b[38;5;241m=\u001b[39m \u001b[38;5;28mlen\u001b[39m(\u001b[38;5;28mself\u001b[39m\u001b[38;5;241m.\u001b[39mvocab\u001b[38;5;241m.\u001b[39mtokens)\n",
      "File \u001b[0;32m/mnt/45b9faff-45f3-43f2-903f-9b92a9a6338c/major-project/notebooks/tts/env/lib/python3.10/site-packages/nemo/collections/tts/models/fastpitch.py:252\u001b[0m, in \u001b[0;36mFastPitchModel._setup_tokenizer\u001b[0;34m(self, cfg)\u001b[0m\n\u001b[1;32m    247\u001b[0m         g2p_kwargs[\u001b[38;5;124m\"\u001b[39m\u001b[38;5;124mheteronyms\u001b[39m\u001b[38;5;124m\"\u001b[39m] \u001b[38;5;241m=\u001b[39m \u001b[38;5;28mself\u001b[39m\u001b[38;5;241m.\u001b[39mregister_artifact(\n\u001b[1;32m    248\u001b[0m             \u001b[38;5;124m'\u001b[39m\u001b[38;5;124mtext_tokenizer.g2p.heteronyms\u001b[39m\u001b[38;5;124m'\u001b[39m, cfg\u001b[38;5;241m.\u001b[39mtext_tokenizer\u001b[38;5;241m.\u001b[39mg2p\u001b[38;5;241m.\u001b[39mheteronyms,\n\u001b[1;32m    249\u001b[0m         )\n\u001b[1;32m    251\u001b[0m     \u001b[38;5;66;03m# for backward compatability\u001b[39;00m\n\u001b[0;32m--> 252\u001b[0m     text_tokenizer_kwargs[\u001b[38;5;124m\"\u001b[39m\u001b[38;5;124mg2p\u001b[39m\u001b[38;5;124m\"\u001b[39m] \u001b[38;5;241m=\u001b[39m \u001b[43minstantiate\u001b[49m\u001b[43m(\u001b[49m\u001b[43mcfg\u001b[49m\u001b[38;5;241;43m.\u001b[39;49m\u001b[43mtext_tokenizer\u001b[49m\u001b[38;5;241;43m.\u001b[39;49m\u001b[43mg2p\u001b[49m\u001b[43m,\u001b[49m\u001b[43m \u001b[49m\u001b[38;5;241;43m*\u001b[39;49m\u001b[38;5;241;43m*\u001b[39;49m\u001b[43mg2p_kwargs\u001b[49m\u001b[43m)\u001b[49m\n\u001b[1;32m    254\u001b[0m \u001b[38;5;66;03m# TODO @xueyang: rename the instance of tokenizer because vocab is misleading.\u001b[39;00m\n\u001b[1;32m    255\u001b[0m \u001b[38;5;28mself\u001b[39m\u001b[38;5;241m.\u001b[39mvocab \u001b[38;5;241m=\u001b[39m instantiate(cfg\u001b[38;5;241m.\u001b[39mtext_tokenizer, \u001b[38;5;241m*\u001b[39m\u001b[38;5;241m*\u001b[39mtext_tokenizer_kwargs)\n",
      "File \u001b[0;32m/mnt/45b9faff-45f3-43f2-903f-9b92a9a6338c/major-project/notebooks/tts/env/lib/python3.10/site-packages/hydra/_internal/instantiate/_instantiate2.py:226\u001b[0m, in \u001b[0;36minstantiate\u001b[0;34m(config, *args, **kwargs)\u001b[0m\n\u001b[1;32m    223\u001b[0m     _convert_ \u001b[38;5;241m=\u001b[39m config\u001b[38;5;241m.\u001b[39mpop(_Keys\u001b[38;5;241m.\u001b[39mCONVERT, ConvertMode\u001b[38;5;241m.\u001b[39mNONE)\n\u001b[1;32m    224\u001b[0m     _partial_ \u001b[38;5;241m=\u001b[39m config\u001b[38;5;241m.\u001b[39mpop(_Keys\u001b[38;5;241m.\u001b[39mPARTIAL, \u001b[38;5;28;01mFalse\u001b[39;00m)\n\u001b[0;32m--> 226\u001b[0m     \u001b[38;5;28;01mreturn\u001b[39;00m \u001b[43minstantiate_node\u001b[49m\u001b[43m(\u001b[49m\n\u001b[1;32m    227\u001b[0m \u001b[43m        \u001b[49m\u001b[43mconfig\u001b[49m\u001b[43m,\u001b[49m\u001b[43m \u001b[49m\u001b[38;5;241;43m*\u001b[39;49m\u001b[43margs\u001b[49m\u001b[43m,\u001b[49m\u001b[43m \u001b[49m\u001b[43mrecursive\u001b[49m\u001b[38;5;241;43m=\u001b[39;49m\u001b[43m_recursive_\u001b[49m\u001b[43m,\u001b[49m\u001b[43m \u001b[49m\u001b[43mconvert\u001b[49m\u001b[38;5;241;43m=\u001b[39;49m\u001b[43m_convert_\u001b[49m\u001b[43m,\u001b[49m\u001b[43m \u001b[49m\u001b[43mpartial\u001b[49m\u001b[38;5;241;43m=\u001b[39;49m\u001b[43m_partial_\u001b[49m\n\u001b[1;32m    228\u001b[0m \u001b[43m    \u001b[49m\u001b[43m)\u001b[49m\n\u001b[1;32m    229\u001b[0m \u001b[38;5;28;01melif\u001b[39;00m OmegaConf\u001b[38;5;241m.\u001b[39mis_list(config):\n\u001b[1;32m    230\u001b[0m     \u001b[38;5;66;03m# Finalize config (convert targets to strings, merge with kwargs)\u001b[39;00m\n\u001b[1;32m    231\u001b[0m     config_copy \u001b[38;5;241m=\u001b[39m copy\u001b[38;5;241m.\u001b[39mdeepcopy(config)\n",
      "File \u001b[0;32m/mnt/45b9faff-45f3-43f2-903f-9b92a9a6338c/major-project/notebooks/tts/env/lib/python3.10/site-packages/hydra/_internal/instantiate/_instantiate2.py:333\u001b[0m, in \u001b[0;36minstantiate_node\u001b[0;34m(node, convert, recursive, partial, *args)\u001b[0m\n\u001b[1;32m    331\u001b[0m exclude_keys \u001b[38;5;241m=\u001b[39m \u001b[38;5;28mset\u001b[39m({\u001b[38;5;124m\"\u001b[39m\u001b[38;5;124m_target_\u001b[39m\u001b[38;5;124m\"\u001b[39m, \u001b[38;5;124m\"\u001b[39m\u001b[38;5;124m_convert_\u001b[39m\u001b[38;5;124m\"\u001b[39m, \u001b[38;5;124m\"\u001b[39m\u001b[38;5;124m_recursive_\u001b[39m\u001b[38;5;124m\"\u001b[39m, \u001b[38;5;124m\"\u001b[39m\u001b[38;5;124m_partial_\u001b[39m\u001b[38;5;124m\"\u001b[39m})\n\u001b[1;32m    332\u001b[0m \u001b[38;5;28;01mif\u001b[39;00m _is_target(node):\n\u001b[0;32m--> 333\u001b[0m     _target_ \u001b[38;5;241m=\u001b[39m \u001b[43m_resolve_target\u001b[49m\u001b[43m(\u001b[49m\u001b[43mnode\u001b[49m\u001b[38;5;241;43m.\u001b[39;49m\u001b[43mget\u001b[49m\u001b[43m(\u001b[49m\u001b[43m_Keys\u001b[49m\u001b[38;5;241;43m.\u001b[39;49m\u001b[43mTARGET\u001b[49m\u001b[43m)\u001b[49m\u001b[43m,\u001b[49m\u001b[43m \u001b[49m\u001b[43mfull_key\u001b[49m\u001b[43m)\u001b[49m\n\u001b[1;32m    334\u001b[0m     kwargs \u001b[38;5;241m=\u001b[39m {}\n\u001b[1;32m    335\u001b[0m     is_partial \u001b[38;5;241m=\u001b[39m node\u001b[38;5;241m.\u001b[39mget(\u001b[38;5;124m\"\u001b[39m\u001b[38;5;124m_partial_\u001b[39m\u001b[38;5;124m\"\u001b[39m, \u001b[38;5;28;01mFalse\u001b[39;00m) \u001b[38;5;129;01mor\u001b[39;00m partial\n",
      "File \u001b[0;32m/mnt/45b9faff-45f3-43f2-903f-9b92a9a6338c/major-project/notebooks/tts/env/lib/python3.10/site-packages/hydra/_internal/instantiate/_instantiate2.py:139\u001b[0m, in \u001b[0;36m_resolve_target\u001b[0;34m(target, full_key)\u001b[0m\n\u001b[1;32m    137\u001b[0m         \u001b[38;5;28;01mif\u001b[39;00m full_key:\n\u001b[1;32m    138\u001b[0m             msg \u001b[38;5;241m+\u001b[39m\u001b[38;5;241m=\u001b[39m \u001b[38;5;124mf\u001b[39m\u001b[38;5;124m\"\u001b[39m\u001b[38;5;130;01m\\n\u001b[39;00m\u001b[38;5;124mfull_key: \u001b[39m\u001b[38;5;132;01m{\u001b[39;00mfull_key\u001b[38;5;132;01m}\u001b[39;00m\u001b[38;5;124m\"\u001b[39m\n\u001b[0;32m--> 139\u001b[0m         \u001b[38;5;28;01mraise\u001b[39;00m InstantiationException(msg) \u001b[38;5;28;01mfrom\u001b[39;00m \u001b[38;5;21;01me\u001b[39;00m\n\u001b[1;32m    140\u001b[0m \u001b[38;5;28;01mif\u001b[39;00m \u001b[38;5;129;01mnot\u001b[39;00m \u001b[38;5;28mcallable\u001b[39m(target):\n\u001b[1;32m    141\u001b[0m     msg \u001b[38;5;241m=\u001b[39m \u001b[38;5;124mf\u001b[39m\u001b[38;5;124m\"\u001b[39m\u001b[38;5;124mExpected a callable target, got \u001b[39m\u001b[38;5;124m'\u001b[39m\u001b[38;5;132;01m{\u001b[39;00mtarget\u001b[38;5;132;01m}\u001b[39;00m\u001b[38;5;124m'\u001b[39m\u001b[38;5;124m of type \u001b[39m\u001b[38;5;124m'\u001b[39m\u001b[38;5;132;01m{\u001b[39;00m\u001b[38;5;28mtype\u001b[39m(target)\u001b[38;5;241m.\u001b[39m\u001b[38;5;18m__name__\u001b[39m\u001b[38;5;132;01m}\u001b[39;00m\u001b[38;5;124m'\u001b[39m\u001b[38;5;124m\"\u001b[39m\n",
      "\u001b[0;31mInstantiationException\u001b[0m: Error locating target 'nemo.collections.tts.torch.g2ps.EnglishG2p', set env var HYDRA_FULL_ERROR=1 to see chained exception.\nfull_key: text_tokenizer.g2p"
     ]
    }
   ],
   "source": [
    "# Load pretrained F5 TTS model\n",
    "fastpitch_model = FastPitchModel.from_pretrained(\"tts_en_fastpitch\")\n",
    "vocoder = HifiGanModel.from_pretrained(\"tts_hifigan\")"
   ]
  },
  {
   "cell_type": "code",
   "execution_count": null,
   "metadata": {},
   "outputs": [],
   "source": [
    "\n",
    "\n",
    "# Generate mel-spectrogram\n",
    "mel_spectrogram = fastpitch_model.parse(english_text)\n",
    "audio = vocoder.convert_spectrogram_to_audio(mel_spectrogram)\n",
    "\n",
    "# Save audio\n",
    "sf.write(\"english_audio.wav\", audio.cpu().numpy(), 22050)\n"
   ]
  },
  {
   "cell_type": "code",
   "execution_count": null,
   "metadata": {},
   "outputs": [],
   "source": []
  }
 ],
 "metadata": {
  "kernelspec": {
   "display_name": "env",
   "language": "python",
   "name": "python3"
  },
  "language_info": {
   "codemirror_mode": {
    "name": "ipython",
    "version": 3
   },
   "file_extension": ".py",
   "mimetype": "text/x-python",
   "name": "python",
   "nbconvert_exporter": "python",
   "pygments_lexer": "ipython3",
   "version": "3.10.12"
  }
 },
 "nbformat": 4,
 "nbformat_minor": 2
}
