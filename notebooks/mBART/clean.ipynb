{
 "cells": [
  {
   "cell_type": "code",
   "execution_count": 159,
   "metadata": {},
   "outputs": [],
   "source": [
    "import pandas as pd\n",
    "import re\n",
    "from cleantext import clean"
   ]
  },
  {
   "cell_type": "code",
   "execution_count": 178,
   "metadata": {},
   "outputs": [],
   "source": [
    "def clean_nepali(text):\n",
    "    text = text.replace('\\u200d', '')  \n",
    "    text = text.replace('।', '')\n",
    "    text = text.replace('–','')  \n",
    "    text = text.replace('—','')\n",
    "    text = text.replace('”','')\n",
    "    text = text.replace('“','')\n",
    "    text = text.replace('‘','')\n",
    "    text = text.replace('’','')\n",
    "    \n",
    "    text = re.sub(r'\\s+', ' ', text)  \n",
    "    text = re.sub(r'[^\\u0900-\\u097F\\s\\.,!?|]।\\u200d', '', text)  \n",
    "    \n",
    "    text = clean(text,\n",
    "                 lowercase=False,\n",
    "                 punct=True,\n",
    "                 numbers=True,\n",
    "                 extra_spaces=True)\n",
    "    return text.strip()"
   ]
  },
  {
   "cell_type": "code",
   "execution_count": 179,
   "metadata": {},
   "outputs": [],
   "source": [
    "def clean_english(text):\n",
    "    # Remove extra whitespace, digits, special characters, retain basic punctuation\n",
    "    text = re.sub(r'\\s+', ' ', text)  # Normalize whitespace\n",
    "    text = re.sub(r'[^\\w\\s\\.,!?]', '', text)  # Keep alphanumeric, space, punctuation\n",
    "    \n",
    "    # Additional cleaning and normalization\n",
    "    text = clean(text,\n",
    "                 lowercase=True,\n",
    "                 punct=True,\n",
    "                 numbers = True,\n",
    "                 extra_spaces=True)\n",
    "    return text.strip()"
   ]
  },
  {
   "cell_type": "code",
   "execution_count": 180,
   "metadata": {},
   "outputs": [],
   "source": [
    "df = pd.read_csv('NMT_data.csv')"
   ]
  },
  {
   "cell_type": "code",
   "execution_count": 181,
   "metadata": {},
   "outputs": [
    {
     "data": {
      "text/html": [
       "<div>\n",
       "<style scoped>\n",
       "    .dataframe tbody tr th:only-of-type {\n",
       "        vertical-align: middle;\n",
       "    }\n",
       "\n",
       "    .dataframe tbody tr th {\n",
       "        vertical-align: top;\n",
       "    }\n",
       "\n",
       "    .dataframe thead th {\n",
       "        text-align: right;\n",
       "    }\n",
       "</style>\n",
       "<table border=\"1\" class=\"dataframe\">\n",
       "  <thead>\n",
       "    <tr style=\"text-align: right;\">\n",
       "      <th></th>\n",
       "      <th>Nepali</th>\n",
       "      <th>English</th>\n",
       "    </tr>\n",
       "  </thead>\n",
       "  <tbody>\n",
       "    <tr>\n",
       "      <th>0</th>\n",
       "      <td>नमस्ते, साथीहरू! आज हामी भोजपुर जिल्लाको यात्र...</td>\n",
       "      <td>Hello, friends! Today, we are embarking on a j...</td>\n",
       "    </tr>\n",
       "    <tr>\n",
       "      <th>1</th>\n",
       "      <td>यो जिल्ला नेपालको प्रदेश नम्बर १ मा अवस्थित छ,...</td>\n",
       "      <td>This district is located in Province No. 1 of ...</td>\n",
       "    </tr>\n",
       "    <tr>\n",
       "      <th>2</th>\n",
       "      <td>भोजपुरको प्राकृतिक सौन्दर्यले हामीलाई सुरु देख...</td>\n",
       "      <td>The natural beauty of Bhojpur is captivating u...</td>\n",
       "    </tr>\n",
       "    <tr>\n",
       "      <th>3</th>\n",
       "      <td>हामीले यहाँको प्रसिद्ध मठ मन्दिरहरूको भ्रमण गर...</td>\n",
       "      <td>We plan to visit some of the famous temples here.</td>\n",
       "    </tr>\n",
       "    <tr>\n",
       "      <th>4</th>\n",
       "      <td>पहिलो गन्तव्य: भोजपुरको पुरानो मठ। यहाँको शान्...</td>\n",
       "      <td>Our first stop an ancient temple in Bhojpur. T...</td>\n",
       "    </tr>\n",
       "    <tr>\n",
       "      <th>...</th>\n",
       "      <td>...</td>\n",
       "      <td>...</td>\n",
       "    </tr>\n",
       "    <tr>\n",
       "      <th>1338</th>\n",
       "      <td>मेची रंगशालामा स्थानीय फुटबल खेल हेर्दा, भीडको...</td>\n",
       "      <td>Watching a local football match at Mechi Stadi...</td>\n",
       "    </tr>\n",
       "    <tr>\n",
       "      <th>1339</th>\n",
       "      <td>स्वाद र परम्परामा धनी राजबंशी परिकारले तपाईलाई...</td>\n",
       "      <td>The Rajbanshi cuisine, rich in flavor and trad...</td>\n",
       "    </tr>\n",
       "    <tr>\n",
       "      <th>1340</th>\n",
       "      <td>हरेक परिकार एउटा उत्सवजस्तो लाग्छ।</td>\n",
       "      <td>Each dish feels like a celebration.</td>\n",
       "    </tr>\n",
       "    <tr>\n",
       "      <th>1341</th>\n",
       "      <td>झापामा सामुदायिक भावना बलियो छ।</td>\n",
       "      <td>The sense of community in Jhapa is strong.</td>\n",
       "    </tr>\n",
       "    <tr>\n",
       "      <th>1342</th>\n",
       "      <td>छिमेकीहरू एक-अर्कालाई सहयोग गर्छन्, र पर्वहरूल...</td>\n",
       "      <td>Neighbors help each other, and festivals bring...</td>\n",
       "    </tr>\n",
       "  </tbody>\n",
       "</table>\n",
       "<p>1343 rows × 2 columns</p>\n",
       "</div>"
      ],
      "text/plain": [
       "                                                 Nepali  \\\n",
       "0     नमस्ते, साथीहरू! आज हामी भोजपुर जिल्लाको यात्र...   \n",
       "1     यो जिल्ला नेपालको प्रदेश नम्बर १ मा अवस्थित छ,...   \n",
       "2     भोजपुरको प्राकृतिक सौन्दर्यले हामीलाई सुरु देख...   \n",
       "3     हामीले यहाँको प्रसिद्ध मठ मन्दिरहरूको भ्रमण गर...   \n",
       "4     पहिलो गन्तव्य: भोजपुरको पुरानो मठ। यहाँको शान्...   \n",
       "...                                                 ...   \n",
       "1338  मेची रंगशालामा स्थानीय फुटबल खेल हेर्दा, भीडको...   \n",
       "1339  स्वाद र परम्परामा धनी राजबंशी परिकारले तपाईलाई...   \n",
       "1340                 हरेक परिकार एउटा उत्सवजस्तो लाग्छ।   \n",
       "1341                   झापामा सामुदायिक भावना बलियो छ।    \n",
       "1342  छिमेकीहरू एक-अर्कालाई सहयोग गर्छन्, र पर्वहरूल...   \n",
       "\n",
       "                                                English  \n",
       "0     Hello, friends! Today, we are embarking on a j...  \n",
       "1     This district is located in Province No. 1 of ...  \n",
       "2     The natural beauty of Bhojpur is captivating u...  \n",
       "3     We plan to visit some of the famous temples here.  \n",
       "4     Our first stop an ancient temple in Bhojpur. T...  \n",
       "...                                                 ...  \n",
       "1338  Watching a local football match at Mechi Stadi...  \n",
       "1339  The Rajbanshi cuisine, rich in flavor and trad...  \n",
       "1340                Each dish feels like a celebration.  \n",
       "1341        The sense of community in Jhapa is strong.   \n",
       "1342  Neighbors help each other, and festivals bring...  \n",
       "\n",
       "[1343 rows x 2 columns]"
      ]
     },
     "execution_count": 181,
     "metadata": {},
     "output_type": "execute_result"
    }
   ],
   "source": [
    "df"
   ]
  },
  {
   "cell_type": "code",
   "execution_count": 182,
   "metadata": {},
   "outputs": [],
   "source": [
    "# Apply the cleaning functions to each column\n",
    "df['Nepali'] = df['Nepali'].apply(clean_nepali)\n",
    "df['English'] = df['English'].apply(clean_english)"
   ]
  },
  {
   "cell_type": "code",
   "execution_count": 183,
   "metadata": {},
   "outputs": [
    {
     "data": {
      "text/plain": [
       "'during festivals kanchanpur comes alive with traditional tharu dances and rituals a colorful display of culture'"
      ]
     },
     "execution_count": 183,
     "metadata": {},
     "output_type": "execute_result"
    }
   ],
   "source": [
    "df['English'][16]"
   ]
  },
  {
   "cell_type": "code",
   "execution_count": 187,
   "metadata": {},
   "outputs": [
    {
     "name": "stdout",
     "output_type": "stream",
     "text": [
      "{' ', 'b', 'z', 'n', 'a', 'r', 'o', 'f', 'e', 'h', 'w', 'v', 'm', 'x', 's', 'u', 't', 'c', 'l', 'j', 'y', 'p', 'g', 'k', 'i', 'd', 'q'}\n",
      "27\n"
     ]
    }
   ],
   "source": [
    "unique_chars = set()\n",
    "for text in df['English']:\n",
    "    for char in text:\n",
    "        unique_chars.add(char)\n",
    "\n",
    "# Print the unique characters\n",
    "print(unique_chars)\n",
    "print(len(unique_chars))\n"
   ]
  },
  {
   "cell_type": "code",
   "execution_count": 188,
   "metadata": {},
   "outputs": [
    {
     "name": "stdout",
     "output_type": "stream",
     "text": [
      "{'ञ', ' ', 'न', 'आ', 'द', 'ई', 'े', 'ऐ', 'ो', 'ज', 'व', 'औ', 'स', 'झ', 'ी', 'ढ', 'ै', 'ष', 'र', 'ँ', 'ओ', 'ट', 'ख', 'ल', 'ह', 'ग', 'क', 'ध', 'अ', 'ङ', 'त', 'भ', 'ा', 'ू', '्', 'इ', 'घ', 'प', 'च', 'ौ', 'ब', 'म', 'फ', 'ृ', 'ु', 'उ', 'श', 'ठ', 'छ', 'ड', 'थ', 'य', 'ए', 'ण', 'ि', 'ः', 'ऊ', 'ं'}\n",
      "58\n"
     ]
    }
   ],
   "source": [
    "unique_chars = set()\n",
    "for text in df['Nepali']:\n",
    "    for char in text:\n",
    "        unique_chars.add(char)\n",
    "\n",
    "# Print the unique characters\n",
    "print(unique_chars)\n",
    "print(len(unique_chars))\n"
   ]
  },
  {
   "cell_type": "code",
   "execution_count": 190,
   "metadata": {},
   "outputs": [],
   "source": [
    "df.to_csv('cleaned_nmt_data.csv', index=False)"
   ]
  },
  {
   "cell_type": "code",
   "execution_count": null,
   "metadata": {},
   "outputs": [],
   "source": []
  },
  {
   "cell_type": "code",
   "execution_count": null,
   "metadata": {},
   "outputs": [],
   "source": []
  }
 ],
 "metadata": {
  "kernelspec": {
   "display_name": "env",
   "language": "python",
   "name": "python3"
  },
  "language_info": {
   "codemirror_mode": {
    "name": "ipython",
    "version": 3
   },
   "file_extension": ".py",
   "mimetype": "text/x-python",
   "name": "python",
   "nbconvert_exporter": "python",
   "pygments_lexer": "ipython3",
   "version": "3.10.12"
  }
 },
 "nbformat": 4,
 "nbformat_minor": 2
}
