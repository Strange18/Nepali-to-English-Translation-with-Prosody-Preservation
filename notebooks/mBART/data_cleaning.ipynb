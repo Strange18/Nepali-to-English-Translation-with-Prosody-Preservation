{
 "cells": [
  {
   "cell_type": "code",
   "execution_count": 1,
   "metadata": {},
   "outputs": [],
   "source": [
    "import pandas as pd\n",
    "import re\n",
    "from cleantext import clean"
   ]
  },
  {
   "cell_type": "code",
   "execution_count": 2,
   "metadata": {},
   "outputs": [],
   "source": [
    "def clean_nepali(text):\n",
    "    text = text.replace('\\u200d', '')  \n",
    "    text = text.replace('।', '')\n",
    "    text = text.replace('–','')  \n",
    "    text = text.replace('—','')\n",
    "    text = text.replace('”','')\n",
    "    text = text.replace('“','')\n",
    "    text = text.replace('‘','')\n",
    "    text = text.replace('’','')\n",
    "    \n",
    "    # text = re.sub(r'\\s+', ' ', text)  \n",
    "    # if not isinstance(text, str) or not text.strip():\n",
    "    #     return \"\"\n",
    "    # pattern = r'[^\\u0900-\\u097F\\u0020-\\u007E\\u200c\\u200d]'\n",
    "\n",
    "    # Replace unnecessary characters with an empty string\n",
    "    # text = re.sub(pattern, '', text)\n",
    "    # print(text)\n",
    "    text = re.sub(r'[^\\u0900-\\u097F\\s\\.,!?|]।\\u200d', '', text)  \n",
    "    \n",
    "    text = clean(text,\n",
    "                 lowercase=False,\n",
    "                 punct=True,\n",
    "                 numbers=True,\n",
    "                 extra_spaces=True)\n",
    "    return text.strip()"
   ]
  },
  {
   "cell_type": "code",
   "execution_count": 3,
   "metadata": {},
   "outputs": [],
   "source": [
    "def clean_english(text):\n",
    "    # Remove extra whitespace, digits, special characters, retain basic punctuation\n",
    "    text = re.sub(r'\\s+', ' ', text)  # Normalize whitespace\n",
    "    text = re.sub(r'[^\\w\\s\\.,!?]', '', text)  # Keep alphanumeric, space, punctuation\n",
    "    \n",
    "    # Additional cleaning and normalization\n",
    "    text = clean(text,\n",
    "                 lowercase=True,\n",
    "                 punct=True,\n",
    "                 numbers = True,\n",
    "                 extra_spaces=True)\n",
    "    return text.strip()"
   ]
  },
  {
   "cell_type": "code",
   "execution_count": 4,
   "metadata": {},
   "outputs": [],
   "source": [
    "df = pd.read_csv('NMT_data.csv')"
   ]
  },
  {
   "cell_type": "code",
   "execution_count": null,
   "metadata": {},
   "outputs": [],
   "source": []
  },
  {
   "cell_type": "code",
   "execution_count": 5,
   "metadata": {},
   "outputs": [
    {
     "data": {
      "text/html": [
       "<div>\n",
       "<style scoped>\n",
       "    .dataframe tbody tr th:only-of-type {\n",
       "        vertical-align: middle;\n",
       "    }\n",
       "\n",
       "    .dataframe tbody tr th {\n",
       "        vertical-align: top;\n",
       "    }\n",
       "\n",
       "    .dataframe thead th {\n",
       "        text-align: right;\n",
       "    }\n",
       "</style>\n",
       "<table border=\"1\" class=\"dataframe\">\n",
       "  <thead>\n",
       "    <tr style=\"text-align: right;\">\n",
       "      <th></th>\n",
       "      <th>Nepali</th>\n",
       "      <th>English</th>\n",
       "    </tr>\n",
       "  </thead>\n",
       "  <tbody>\n",
       "    <tr>\n",
       "      <th>0</th>\n",
       "      <td>नमस्ते, साथीहरू! आज हामी भोजपुर जिल्लाको यात्र...</td>\n",
       "      <td>Hello, friends! Today, we are embarking on a j...</td>\n",
       "    </tr>\n",
       "    <tr>\n",
       "      <th>1</th>\n",
       "      <td>यो जिल्ला नेपालको प्रदेश नम्बर १ मा अवस्थित छ,...</td>\n",
       "      <td>This district is located in Province No. 1 of ...</td>\n",
       "    </tr>\n",
       "    <tr>\n",
       "      <th>2</th>\n",
       "      <td>भोजपुरको प्राकृतिक सौन्दर्यले हामीलाई सुरु देख...</td>\n",
       "      <td>The natural beauty of Bhojpur is captivating u...</td>\n",
       "    </tr>\n",
       "    <tr>\n",
       "      <th>3</th>\n",
       "      <td>हामीले यहाँको प्रसिद्ध मठ मन्दिरहरूको भ्रमण गर...</td>\n",
       "      <td>We plan to visit some of the famous temples here.</td>\n",
       "    </tr>\n",
       "    <tr>\n",
       "      <th>4</th>\n",
       "      <td>पहिलो गन्तव्य: भोजपुरको पुरानो मठ। यहाँको शान्...</td>\n",
       "      <td>Our first stop an ancient temple in Bhojpur. T...</td>\n",
       "    </tr>\n",
       "    <tr>\n",
       "      <th>...</th>\n",
       "      <td>...</td>\n",
       "      <td>...</td>\n",
       "    </tr>\n",
       "    <tr>\n",
       "      <th>3074</th>\n",
       "      <td>नेपालमा संस्कृतिका साथ धेरै प्रकारका जातिजाति ...</td>\n",
       "      <td>Nepal is home to many diverse ethnic groups wi...</td>\n",
       "    </tr>\n",
       "    <tr>\n",
       "      <th>3075</th>\n",
       "      <td>नेपालको हिमालय सम्म फैलिएको छ।</td>\n",
       "      <td>Nepal is spread up to the Himalayas.</td>\n",
       "    </tr>\n",
       "    <tr>\n",
       "      <th>3076</th>\n",
       "      <td>नेपालको सम्पूर्ण उत्तरी सिमाना हिमालय पर्वत शृ...</td>\n",
       "      <td>The entire northern border of Nepal is surroun...</td>\n",
       "    </tr>\n",
       "    <tr>\n",
       "      <th>3077</th>\n",
       "      <td>नेपालको हिमालय शृङ्खला विश्वको सबैभन्दा ऊँचो श...</td>\n",
       "      <td>The Himalayan range in Nepal includes the worl...</td>\n",
       "    </tr>\n",
       "    <tr>\n",
       "      <th>3078</th>\n",
       "      <td>नेपालमा संसारको अग्लो हिमाल सगरमाथा छ।</td>\n",
       "      <td>Nepal has the highest peak in the world, Mount...</td>\n",
       "    </tr>\n",
       "  </tbody>\n",
       "</table>\n",
       "<p>3079 rows × 2 columns</p>\n",
       "</div>"
      ],
      "text/plain": [
       "                                                 Nepali  \\\n",
       "0     नमस्ते, साथीहरू! आज हामी भोजपुर जिल्लाको यात्र...   \n",
       "1     यो जिल्ला नेपालको प्रदेश नम्बर १ मा अवस्थित छ,...   \n",
       "2     भोजपुरको प्राकृतिक सौन्दर्यले हामीलाई सुरु देख...   \n",
       "3     हामीले यहाँको प्रसिद्ध मठ मन्दिरहरूको भ्रमण गर...   \n",
       "4     पहिलो गन्तव्य: भोजपुरको पुरानो मठ। यहाँको शान्...   \n",
       "...                                                 ...   \n",
       "3074  नेपालमा संस्कृतिका साथ धेरै प्रकारका जातिजाति ...   \n",
       "3075                     नेपालको हिमालय सम्म फैलिएको छ।   \n",
       "3076  नेपालको सम्पूर्ण उत्तरी सिमाना हिमालय पर्वत शृ...   \n",
       "3077  नेपालको हिमालय शृङ्खला विश्वको सबैभन्दा ऊँचो श...   \n",
       "3078             नेपालमा संसारको अग्लो हिमाल सगरमाथा छ।   \n",
       "\n",
       "                                                English  \n",
       "0     Hello, friends! Today, we are embarking on a j...  \n",
       "1     This district is located in Province No. 1 of ...  \n",
       "2     The natural beauty of Bhojpur is captivating u...  \n",
       "3     We plan to visit some of the famous temples here.  \n",
       "4     Our first stop an ancient temple in Bhojpur. T...  \n",
       "...                                                 ...  \n",
       "3074  Nepal is home to many diverse ethnic groups wi...  \n",
       "3075               Nepal is spread up to the Himalayas.  \n",
       "3076  The entire northern border of Nepal is surroun...  \n",
       "3077  The Himalayan range in Nepal includes the worl...  \n",
       "3078  Nepal has the highest peak in the world, Mount...  \n",
       "\n",
       "[3079 rows x 2 columns]"
      ]
     },
     "execution_count": 5,
     "metadata": {},
     "output_type": "execute_result"
    }
   ],
   "source": [
    "df"
   ]
  },
  {
   "cell_type": "code",
   "execution_count": 6,
   "metadata": {},
   "outputs": [],
   "source": [
    "df.dropna(inplace=True)"
   ]
  },
  {
   "cell_type": "code",
   "execution_count": 7,
   "metadata": {},
   "outputs": [],
   "source": [
    "# filtered_items = df[df['english'].str.len() < 10]\n",
    "# filtered_items"
   ]
  },
  {
   "cell_type": "code",
   "execution_count": 8,
   "metadata": {},
   "outputs": [],
   "source": [
    "# nep_filtered_items = df[df['nepali'].str.len() < 10]\n",
    "# nep_filtered_items"
   ]
  },
  {
   "cell_type": "code",
   "execution_count": 9,
   "metadata": {},
   "outputs": [],
   "source": [
    "# df = df[df['nepali'].str.len() >= 10]"
   ]
  },
  {
   "cell_type": "code",
   "execution_count": 10,
   "metadata": {},
   "outputs": [],
   "source": [
    "df['Nepali'] = df['Nepali'].apply(lambda x: str(x))\n",
    "df['English'] = df['English'].apply(lambda x: str(x))"
   ]
  },
  {
   "cell_type": "code",
   "execution_count": 11,
   "metadata": {},
   "outputs": [],
   "source": [
    "df = df[df['Nepali'].notnull()]\n",
    "df = df[df['English'].notnull()]"
   ]
  },
  {
   "cell_type": "code",
   "execution_count": 12,
   "metadata": {},
   "outputs": [],
   "source": [
    "df['Nepali'] = df['Nepali'].apply(lambda x: clean_nepali(x))"
   ]
  },
  {
   "cell_type": "code",
   "execution_count": 13,
   "metadata": {},
   "outputs": [],
   "source": [
    "# Apply the cleaning functions to each column\n",
    "\n",
    "df['English'] = df['English'].apply(clean_english)"
   ]
  },
  {
   "cell_type": "code",
   "execution_count": 14,
   "metadata": {},
   "outputs": [],
   "source": [
    "# df['english'][16]"
   ]
  },
  {
   "cell_type": "code",
   "execution_count": 15,
   "metadata": {},
   "outputs": [
    {
     "data": {
      "text/html": [
       "<div>\n",
       "<style scoped>\n",
       "    .dataframe tbody tr th:only-of-type {\n",
       "        vertical-align: middle;\n",
       "    }\n",
       "\n",
       "    .dataframe tbody tr th {\n",
       "        vertical-align: top;\n",
       "    }\n",
       "\n",
       "    .dataframe thead th {\n",
       "        text-align: right;\n",
       "    }\n",
       "</style>\n",
       "<table border=\"1\" class=\"dataframe\">\n",
       "  <thead>\n",
       "    <tr style=\"text-align: right;\">\n",
       "      <th></th>\n",
       "      <th>Nepali</th>\n",
       "      <th>English</th>\n",
       "    </tr>\n",
       "  </thead>\n",
       "  <tbody>\n",
       "  </tbody>\n",
       "</table>\n",
       "</div>"
      ],
      "text/plain": [
       "Empty DataFrame\n",
       "Columns: [Nepali, English]\n",
       "Index: []"
      ]
     },
     "execution_count": 15,
     "metadata": {},
     "output_type": "execute_result"
    }
   ],
   "source": [
    "df[df['Nepali'].apply(lambda x: 'Nepal' in x)]"
   ]
  },
  {
   "cell_type": "code",
   "execution_count": 24,
   "metadata": {},
   "outputs": [
    {
     "name": "stdout",
     "output_type": "stream",
     "text": [
      "{'f', 'y', 'a', 'o', 'l', 'r', 'j', 'w', 'z', 'p', 'c', 'm', 'i', 'n', 'b', ' ', 'v', 'e', 'u', 'd', 'h', 'g', 's', 'q', 't', 'k', 'x'}\n",
      "27\n"
     ]
    }
   ],
   "source": [
    "unique_chars = set()\n",
    "for text in df['English']:\n",
    "    for char in text:\n",
    "        unique_chars.add(char)\n",
    "\n",
    "# Print the unique characters\n",
    "print(unique_chars)\n",
    "print(len(unique_chars))\n"
   ]
  },
  {
   "cell_type": "code",
   "execution_count": 25,
   "metadata": {},
   "outputs": [
    {
     "name": "stdout",
     "output_type": "stream",
     "text": [
      "{'ो', '़', 'ौ', 'ा', 'म', '्', 'ल', 'द', 'न', 'फ', 'ं', 'प', 'ू', 'भ', 'ड', 'ब', 'ण', 'झ', 'ञ', 'ॉ', 'औ', 'स', 'ध', 'ग', 'इ', 'े', 'ी', 'ु', 'त', 'य', 'ज', 'ँ', 'र', 'ए', 'श', 'ठ', 'अ', 'ङ', ' ', 'ः', 'उ', 'छ', 'ढ', 'ח', 'ओ', 'व', 'ट', 'ख', '॥', 'ऐ', 'क', 'ई', 'घ', 'ऊ', 'आ', 'थ', 'ह', 'ष', 'च', 'ृ', 'ै', 'ि'}\n",
      "62\n"
     ]
    }
   ],
   "source": [
    "unique_chars = set()\n",
    "for text in df['Nepali']:\n",
    "    for char in text:\n",
    "        unique_chars.add(char)\n",
    "\n",
    "# Print the unique characters\n",
    "print(unique_chars)\n",
    "print(len(unique_chars))\n"
   ]
  },
  {
   "cell_type": "code",
   "execution_count": 23,
   "metadata": {},
   "outputs": [
    {
     "data": {
      "text/plain": [
       "0"
      ]
     },
     "execution_count": 23,
     "metadata": {},
     "output_type": "execute_result"
    }
   ],
   "source": [
    "df.duplicated().sum()"
   ]
  },
  {
   "cell_type": "code",
   "execution_count": 19,
   "metadata": {},
   "outputs": [],
   "source": [
    "df.drop_duplicates(inplace=True)"
   ]
  },
  {
   "cell_type": "code",
   "execution_count": 20,
   "metadata": {},
   "outputs": [
    {
     "data": {
      "text/html": [
       "<div>\n",
       "<style scoped>\n",
       "    .dataframe tbody tr th:only-of-type {\n",
       "        vertical-align: middle;\n",
       "    }\n",
       "\n",
       "    .dataframe tbody tr th {\n",
       "        vertical-align: top;\n",
       "    }\n",
       "\n",
       "    .dataframe thead th {\n",
       "        text-align: right;\n",
       "    }\n",
       "</style>\n",
       "<table border=\"1\" class=\"dataframe\">\n",
       "  <thead>\n",
       "    <tr style=\"text-align: right;\">\n",
       "      <th></th>\n",
       "      <th>Nepali</th>\n",
       "      <th>English</th>\n",
       "    </tr>\n",
       "  </thead>\n",
       "  <tbody>\n",
       "    <tr>\n",
       "      <th>0</th>\n",
       "      <td>नमस्ते साथीहरू आज हामी भोजपुर जिल्लाको यात्राम...</td>\n",
       "      <td>hello friends today we are embarking on a jour...</td>\n",
       "    </tr>\n",
       "    <tr>\n",
       "      <th>1</th>\n",
       "      <td>यो जिल्ला नेपालको प्रदेश नम्बर  मा अवस्थित छ र...</td>\n",
       "      <td>this district is located in province no  of ne...</td>\n",
       "    </tr>\n",
       "    <tr>\n",
       "      <th>2</th>\n",
       "      <td>भोजपुरको प्राकृतिक सौन्दर्यले हामीलाई सुरु देख...</td>\n",
       "      <td>the natural beauty of bhojpur is captivating u...</td>\n",
       "    </tr>\n",
       "    <tr>\n",
       "      <th>3</th>\n",
       "      <td>हामीले यहाँको प्रसिद्ध मठ मन्दिरहरूको भ्रमण गर...</td>\n",
       "      <td>we plan to visit some of the famous temples here</td>\n",
       "    </tr>\n",
       "    <tr>\n",
       "      <th>4</th>\n",
       "      <td>पहिलो गन्तव्य भोजपुरको पुरानो मठ यहाँको शान्त ...</td>\n",
       "      <td>our first stop an ancient temple in bhojpur th...</td>\n",
       "    </tr>\n",
       "    <tr>\n",
       "      <th>...</th>\n",
       "      <td>...</td>\n",
       "      <td>...</td>\n",
       "    </tr>\n",
       "    <tr>\n",
       "      <th>3074</th>\n",
       "      <td>नेपालमा संस्कृतिका साथ धेरै प्रकारका जातिजाति ...</td>\n",
       "      <td>nepal is home to many diverse ethnic groups wi...</td>\n",
       "    </tr>\n",
       "    <tr>\n",
       "      <th>3075</th>\n",
       "      <td>नेपालको हिमालय सम्म फैलिएको छ</td>\n",
       "      <td>nepal is spread up to the himalayas</td>\n",
       "    </tr>\n",
       "    <tr>\n",
       "      <th>3076</th>\n",
       "      <td>नेपालको सम्पूर्ण उत्तरी सिमाना हिमालय पर्वत शृ...</td>\n",
       "      <td>the entire northern border of nepal is surroun...</td>\n",
       "    </tr>\n",
       "    <tr>\n",
       "      <th>3077</th>\n",
       "      <td>नेपालको हिमालय शृङ्खला विश्वको सबैभन्दा ऊँचो श...</td>\n",
       "      <td>the himalayan range in nepal includes the worl...</td>\n",
       "    </tr>\n",
       "    <tr>\n",
       "      <th>3078</th>\n",
       "      <td>नेपालमा संसारको अग्लो हिमाल सगरमाथा छ</td>\n",
       "      <td>nepal has the highest peak in the world mount ...</td>\n",
       "    </tr>\n",
       "  </tbody>\n",
       "</table>\n",
       "<p>2828 rows × 2 columns</p>\n",
       "</div>"
      ],
      "text/plain": [
       "                                                 Nepali  \\\n",
       "0     नमस्ते साथीहरू आज हामी भोजपुर जिल्लाको यात्राम...   \n",
       "1     यो जिल्ला नेपालको प्रदेश नम्बर  मा अवस्थित छ र...   \n",
       "2     भोजपुरको प्राकृतिक सौन्दर्यले हामीलाई सुरु देख...   \n",
       "3     हामीले यहाँको प्रसिद्ध मठ मन्दिरहरूको भ्रमण गर...   \n",
       "4     पहिलो गन्तव्य भोजपुरको पुरानो मठ यहाँको शान्त ...   \n",
       "...                                                 ...   \n",
       "3074  नेपालमा संस्कृतिका साथ धेरै प्रकारका जातिजाति ...   \n",
       "3075                      नेपालको हिमालय सम्म फैलिएको छ   \n",
       "3076  नेपालको सम्पूर्ण उत्तरी सिमाना हिमालय पर्वत शृ...   \n",
       "3077  नेपालको हिमालय शृङ्खला विश्वको सबैभन्दा ऊँचो श...   \n",
       "3078              नेपालमा संसारको अग्लो हिमाल सगरमाथा छ   \n",
       "\n",
       "                                                English  \n",
       "0     hello friends today we are embarking on a jour...  \n",
       "1     this district is located in province no  of ne...  \n",
       "2     the natural beauty of bhojpur is captivating u...  \n",
       "3      we plan to visit some of the famous temples here  \n",
       "4     our first stop an ancient temple in bhojpur th...  \n",
       "...                                                 ...  \n",
       "3074  nepal is home to many diverse ethnic groups wi...  \n",
       "3075                nepal is spread up to the himalayas  \n",
       "3076  the entire northern border of nepal is surroun...  \n",
       "3077  the himalayan range in nepal includes the worl...  \n",
       "3078  nepal has the highest peak in the world mount ...  \n",
       "\n",
       "[2828 rows x 2 columns]"
      ]
     },
     "execution_count": 20,
     "metadata": {},
     "output_type": "execute_result"
    }
   ],
   "source": [
    "df"
   ]
  },
  {
   "cell_type": "code",
   "execution_count": 21,
   "metadata": {},
   "outputs": [],
   "source": [
    "df.to_csv('cleaned_data.csv', index=False)"
   ]
  },
  {
   "cell_type": "code",
   "execution_count": 22,
   "metadata": {},
   "outputs": [
    {
     "data": {
      "text/plain": [
       "(2828, 2)"
      ]
     },
     "execution_count": 22,
     "metadata": {},
     "output_type": "execute_result"
    }
   ],
   "source": [
    "df.shape"
   ]
  },
  {
   "cell_type": "code",
   "execution_count": null,
   "metadata": {},
   "outputs": [],
   "source": []
  },
  {
   "cell_type": "code",
   "execution_count": null,
   "metadata": {},
   "outputs": [],
   "source": []
  },
  {
   "cell_type": "code",
   "execution_count": null,
   "metadata": {},
   "outputs": [],
   "source": []
  },
  {
   "cell_type": "code",
   "execution_count": null,
   "metadata": {},
   "outputs": [],
   "source": []
  },
  {
   "cell_type": "code",
   "execution_count": null,
   "metadata": {},
   "outputs": [],
   "source": []
  }
 ],
 "metadata": {
  "kernelspec": {
   "display_name": "env",
   "language": "python",
   "name": "python3"
  },
  "language_info": {
   "codemirror_mode": {
    "name": "ipython",
    "version": 3
   },
   "file_extension": ".py",
   "mimetype": "text/x-python",
   "name": "python",
   "nbconvert_exporter": "python",
   "pygments_lexer": "ipython3",
   "version": "3.10.12"
  }
 },
 "nbformat": 4,
 "nbformat_minor": 2
}
