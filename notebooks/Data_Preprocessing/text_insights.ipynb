{
 "cells": [
  {
   "cell_type": "code",
   "execution_count": 1,
   "metadata": {},
   "outputs": [],
   "source": [
    "import pandas as pd\n",
    "import librosa\n",
    "import os"
   ]
  },
  {
   "cell_type": "code",
   "execution_count": 2,
   "metadata": {},
   "outputs": [],
   "source": [
    "df = pd.read_csv('dataset_detail.csv')"
   ]
  },
  {
   "cell_type": "code",
   "execution_count": 3,
   "metadata": {},
   "outputs": [],
   "source": [
    "audio_dir = 'data'\n",
    "file_paths = []\n",
    "durations = []"
   ]
  },
  {
   "cell_type": "code",
   "execution_count": 4,
   "metadata": {},
   "outputs": [],
   "source": [
    "# Function to calculate duration of an audio file\n",
    "def calculate_duration(file_path):\n",
    "    y, sr = librosa.load(file_path, sr=None)\n",
    "    return librosa.get_duration(y=y, sr=sr)"
   ]
  },
  {
   "cell_type": "code",
   "execution_count": 5,
   "metadata": {},
   "outputs": [],
   "source": [
    "# Process each file in the directory\n",
    "for file_name in os.listdir(audio_dir):\n",
    "    if file_name.endswith('.wav'):\n",
    "        file_path = os.path.join(audio_dir, file_name)\n",
    "        # Calculate the duration\n",
    "        duration = calculate_duration(file_path)\n",
    "        # Append data to lists\n",
    "        file_paths.append(file_path)\n",
    "        durations.append(duration)"
   ]
  },
  {
   "cell_type": "code",
   "execution_count": null,
   "metadata": {},
   "outputs": [],
   "source": []
  },
  {
   "cell_type": "code",
   "execution_count": 6,
   "metadata": {},
   "outputs": [
    {
     "name": "stdout",
     "output_type": "stream",
     "text": [
      "Total Duration: 3.68 hours\n",
      "Number of Utterances: 2739\n"
     ]
    }
   ],
   "source": [
    "# Create a DataFrame from the lists\n",
    "metadata = pd.DataFrame({\n",
    "    'file_path': file_paths,\n",
    "    'duration': durations\n",
    "})\n",
    "\n",
    "# Calculate total duration\n",
    "total_duration = metadata['duration'].sum()\n",
    "\n",
    "# Calculate number of utterances\n",
    "num_utterances = len(metadata)\n",
    "\n",
    "# Print results\n",
    "print(f\"Total Duration: {total_duration / 3600:.2f} hours\")\n",
    "print(f\"Number of Utterances: {num_utterances}\")\n",
    "\n",
    "metadata.to_csv('metadata.csv', index=False)\n"
   ]
  },
  {
   "cell_type": "code",
   "execution_count": 8,
   "metadata": {},
   "outputs": [
    {
     "name": "stdout",
     "output_type": "stream",
     "text": [
      "Total Duration: 3.68 hours\n",
      "Number of Utterances: 2739\n",
      "Largest Audio File: data/Voice38.wav with duration 13.549 seconds\n",
      "Smallest Audio File: data/Voice106.wav with duration 0.626 seconds\n"
     ]
    }
   ],
   "source": [
    "import os\n",
    "import pandas as pd\n",
    "import librosa\n",
    "\n",
    "# Load metadata CSV file\n",
    "# metadata = pd.read_csv('metadata.csv')\n",
    "\n",
    "# Initialize a list to store durations\n",
    "durations = []\n",
    "\n",
    "# Define the directory containing the audio files\n",
    "# audio_dir = 'data'\n",
    "\n",
    "# Function to calculate duration of an audio file\n",
    "# def calculate_duration(file_path):\n",
    "#     y, sr = librosa.load(file_path, sr=None)\n",
    "#     return librosa.get_duration(y=y, sr=sr)\n",
    "\n",
    "# # Calculate duration for each file and add it to the metadata\n",
    "# for index, row in metadata.iterrows():\n",
    "#     file_path = os.path.join(audio_dir, row['file_path'])\n",
    "#     if os.path.exists(file_path):\n",
    "#         duration = calculate_duration(file_path)\n",
    "#         durations.append(duration)\n",
    "#     else:\n",
    "#         print(f\"File not found: {file_path}\")\n",
    "#         durations.append(0)\n",
    "\n",
    "# Add the duration to the DataFrame\n",
    "# metadata['duration'] = durations\n",
    "\n",
    "# Calculate total duration\n",
    "total_duration = metadata['duration'].sum()\n",
    "\n",
    "# Calculate number of utterances\n",
    "num_utterances = len(metadata)\n",
    "\n",
    "# Find the transcription corresponding to the largest and smallest audio files\n",
    "largest_audio = metadata.loc[metadata['duration'].idxmax()]\n",
    "smallest_audio = metadata.loc[metadata['duration'].idxmin()]\n",
    "\n",
    "# Print results\n",
    "print(f\"Total Duration: {total_duration / 3600:.2f} hours\")\n",
    "print(f\"Number of Utterances: {num_utterances}\")\n",
    "print(f\"Largest Audio File: {largest_audio['file_path']} with duration {largest_audio['duration']} seconds\")\n",
    "# print(f\"Transcript of Largest Audio File: {largest_audio['Transcriptions']}\")\n",
    "print(f\"Smallest Audio File: {smallest_audio['file_path']} with duration {smallest_audio['duration']} seconds\")\n",
    "# print(f\"Transcript of Smallest Audio File: {smallest_audio['Transcriptions']}\")\n",
    "\n",
    "# Save the updated metadata with durations\n",
    "metadata.to_csv('updated_metadata.csv', index=False)"
   ]
  },
  {
   "cell_type": "code",
   "execution_count": null,
   "metadata": {},
   "outputs": [],
   "source": []
  }
 ],
 "metadata": {
  "kernelspec": {
   "display_name": "env",
   "language": "python",
   "name": "python3"
  },
  "language_info": {
   "codemirror_mode": {
    "name": "ipython",
    "version": 3
   },
   "file_extension": ".py",
   "mimetype": "text/x-python",
   "name": "python",
   "nbconvert_exporter": "python",
   "pygments_lexer": "ipython3",
   "version": "3.10.12"
  }
 },
 "nbformat": 4,
 "nbformat_minor": 2
}
