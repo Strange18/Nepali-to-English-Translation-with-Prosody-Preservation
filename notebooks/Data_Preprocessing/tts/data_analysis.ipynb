{
 "cells": [
  {
   "cell_type": "code",
   "execution_count": 1,
   "metadata": {},
   "outputs": [
    {
     "ename": "ModuleNotFoundError",
     "evalue": "No module named 'pandas'",
     "output_type": "error",
     "traceback": [
      "\u001b[0;31m---------------------------------------------------------------------------\u001b[0m",
      "\u001b[0;31mModuleNotFoundError\u001b[0m                       Traceback (most recent call last)",
      "Cell \u001b[0;32mIn[1], line 1\u001b[0m\n\u001b[0;32m----> 1\u001b[0m \u001b[38;5;28;01mimport\u001b[39;00m\u001b[38;5;250m \u001b[39m\u001b[38;5;21;01mpandas\u001b[39;00m\u001b[38;5;250m \u001b[39m\u001b[38;5;28;01mas\u001b[39;00m\u001b[38;5;250m \u001b[39m\u001b[38;5;21;01mpd\u001b[39;00m\n",
      "\u001b[0;31mModuleNotFoundError\u001b[0m: No module named 'pandas'"
     ]
    }
   ],
   "source": [
    "import pandas as pd"
   ]
  },
  {
   "cell_type": "code",
   "execution_count": null,
   "metadata": {},
   "outputs": [],
   "source": [
    "import pandas as pd\n",
    "\n",
    "# Load dataset (replace 'dataset.csv' with your dataset file)\n",
    "# Assuming the dataset has columns: 'audio_path' and 'transcription'\n",
    "dataset = pd.read_csv('dataset.csv')\n",
    "\n",
    "# Display basic information\n",
    "print(f\"Total samples: {len(dataset)}\")\n",
    "print(dataset.head())\n"
   ]
  },
  {
   "cell_type": "code",
   "execution_count": null,
   "metadata": {},
   "outputs": [],
   "source": []
  },
  {
   "cell_type": "code",
   "execution_count": null,
   "metadata": {},
   "outputs": [],
   "source": [
    "# Sentence Length Distribution\n",
    "import matplotlib.pyplot as plt\n",
    "\n",
    "# Compute text lengths\n",
    "dataset['text_length'] = dataset['transcription'].apply(len)\n",
    "\n",
    "# Plot sentence length distribution\n",
    "plt.hist(dataset['text_length'], bins=30, color='skyblue', edgecolor='black')\n",
    "plt.title('Text Length Distribution')\n",
    "plt.xlabel('Length of Transcription')\n",
    "plt.ylabel('Frequency')\n",
    "plt.show()\n"
   ]
  },
  {
   "cell_type": "code",
   "execution_count": null,
   "metadata": {},
   "outputs": [],
   "source": []
  },
  {
   "cell_type": "code",
   "execution_count": null,
   "metadata": {},
   "outputs": [],
   "source": [
    "# word Frequency\n",
    "from collections import Counter\n",
    "\n",
    "# Tokenize text and compute word frequency\n",
    "word_list = [word for text in dataset['transcription'] for word in text.split()]\n",
    "word_freq = Counter(word_list)\n",
    "\n",
    "# Display most common words\n",
    "print(\"Most common words:\", word_freq.most_common(10))\n"
   ]
  },
  {
   "cell_type": "code",
   "execution_count": null,
   "metadata": {},
   "outputs": [],
   "source": []
  },
  {
   "cell_type": "code",
   "execution_count": 2,
   "metadata": {},
   "outputs": [
    {
     "ename": "ModuleNotFoundError",
     "evalue": "No module named 'librosa'",
     "output_type": "error",
     "traceback": [
      "\u001b[0;31m---------------------------------------------------------------------------\u001b[0m",
      "\u001b[0;31mModuleNotFoundError\u001b[0m                       Traceback (most recent call last)",
      "Cell \u001b[0;32mIn[2], line 2\u001b[0m\n\u001b[1;32m      1\u001b[0m \u001b[38;5;66;03m# Audio Analysis\u001b[39;00m\n\u001b[0;32m----> 2\u001b[0m \u001b[38;5;28;01mimport\u001b[39;00m\u001b[38;5;250m \u001b[39m\u001b[38;5;21;01mlibrosa\u001b[39;00m\n\u001b[1;32m      3\u001b[0m \u001b[38;5;28;01mfrom\u001b[39;00m\u001b[38;5;250m \u001b[39m\u001b[38;5;21;01mtqdm\u001b[39;00m\u001b[38;5;250m \u001b[39m\u001b[38;5;28;01mimport\u001b[39;00m tqdm\n\u001b[1;32m      5\u001b[0m \u001b[38;5;66;03m# Compute audio durations\u001b[39;00m\n",
      "\u001b[0;31mModuleNotFoundError\u001b[0m: No module named 'librosa'"
     ]
    }
   ],
   "source": [
    "# Audio Analysis\n",
    "import librosa\n",
    "from tqdm import tqdm\n",
    "\n",
    "# Compute audio durations\n",
    "durations = []\n",
    "for audio_path in tqdm(dataset['audio_path']):\n",
    "    y, sr = librosa.load(audio_path, sr=None)\n",
    "    durations.append(len(y) / sr)\n",
    "\n",
    "dataset['duration'] = durations\n",
    "\n",
    "# Plot duration distribution\n",
    "plt.hist(dataset['duration'], bins=30, color='lightcoral', edgecolor='black')\n",
    "plt.title('Audio Duration Distribution')\n",
    "plt.xlabel('Duration (seconds)')\n",
    "plt.ylabel('Frequency')\n",
    "plt.show()\n"
   ]
  },
  {
   "cell_type": "code",
   "execution_count": null,
   "metadata": {},
   "outputs": [],
   "source": []
  },
  {
   "cell_type": "code",
   "execution_count": null,
   "metadata": {},
   "outputs": [],
   "source": [
    "# Volume Consistency\n",
    "from pydub import AudioSegment\n",
    "\n",
    "# Compute average volume (dBFS)\n",
    "volumes = []\n",
    "for audio_path in tqdm(dataset['audio_path']):\n",
    "    audio = AudioSegment.from_file(audio_path)\n",
    "    volumes.append(audio.dBFS)\n",
    "\n",
    "dataset['volume'] = volumes\n",
    "\n",
    "# Plot volume distribution\n",
    "plt.hist(dataset['volume'], bins=30, color='lightgreen', edgecolor='black')\n",
    "plt.title('Volume Distribution')\n",
    "plt.xlabel('dBFS')\n",
    "plt.ylabel('Frequency')\n",
    "plt.show()\n"
   ]
  },
  {
   "cell_type": "code",
   "execution_count": null,
   "metadata": {},
   "outputs": [],
   "source": []
  },
  {
   "cell_type": "code",
   "execution_count": null,
   "metadata": {},
   "outputs": [],
   "source": [
    "# Text-Audio Alignment\n",
    "# Compute speaking rate (words per second)\n",
    "dataset['word_count'] = dataset['transcription'].apply(lambda x: len(x.split()))\n",
    "dataset['speaking_rate'] = dataset['word_count'] / dataset['duration']\n",
    "\n",
    "# Plot speaking rate distribution\n",
    "plt.hist(dataset['speaking_rate'], bins=30, color='lightblue', edgecolor='black')\n",
    "plt.title('Speaking Rate Distribution')\n",
    "plt.xlabel('Words per Second')\n",
    "plt.ylabel('Frequency')\n",
    "plt.show()\n"
   ]
  },
  {
   "cell_type": "code",
   "execution_count": null,
   "metadata": {},
   "outputs": [],
   "source": []
  },
  {
   "cell_type": "code",
   "execution_count": null,
   "metadata": {},
   "outputs": [],
   "source": [
    "# Scatter plot of text length vs audio duration\n",
    "plt.scatter(dataset['text_length'], dataset['duration'], alpha=0.6, color='purple')\n",
    "plt.title('Text Length vs Audio Duration')\n",
    "plt.xlabel('Text Length')\n",
    "plt.ylabel('Audio Duration (seconds)')\n",
    "plt.show()"
   ]
  },
  {
   "cell_type": "code",
   "execution_count": null,
   "metadata": {},
   "outputs": [],
   "source": []
  },
  {
   "cell_type": "code",
   "execution_count": null,
   "metadata": {},
   "outputs": [],
   "source": [
    "import random\n",
    "import IPython.display as ipd\n",
    "\n",
    "# Randomly sample an audio file and play it\n",
    "sample = dataset.sample(1).iloc[0]\n",
    "print(f\"Transcription: {sample['transcription']}\")\n",
    "ipd.Audio(sample['audio_path'])\n"
   ]
  },
  {
   "cell_type": "code",
   "execution_count": null,
   "metadata": {},
   "outputs": [],
   "source": []
  },
  {
   "cell_type": "code",
   "execution_count": null,
   "metadata": {},
   "outputs": [],
   "source": [
    "# Outliers in duration\n",
    "print(\"Short audio files:\", dataset[dataset['duration'] < 0.5])\n",
    "print(\"Long audio files:\", dataset[dataset['duration'] > 10.0])\n",
    "\n",
    "# Outliers in volume\n",
    "print(\"Low volume files:\", dataset[dataset['volume'] < -40])\n",
    "print(\"High volume files:\", dataset[dataset['volume'] > 0])\n"
   ]
  },
  {
   "cell_type": "code",
   "execution_count": null,
   "metadata": {},
   "outputs": [],
   "source": []
  },
  {
   "cell_type": "code",
   "execution_count": null,
   "metadata": {},
   "outputs": [],
   "source": [
    "# Save the processed dataset for further use\n",
    "dataset.to_csv('processed_dataset.csv', index=False)\n"
   ]
  }
 ],
 "metadata": {
  "kernelspec": {
   "display_name": "env",
   "language": "python",
   "name": "python3"
  },
  "language_info": {
   "codemirror_mode": {
    "name": "ipython",
    "version": 3
   },
   "file_extension": ".py",
   "mimetype": "text/x-python",
   "name": "python",
   "nbconvert_exporter": "python",
   "pygments_lexer": "ipython3",
   "version": "3.10.12"
  }
 },
 "nbformat": 4,
 "nbformat_minor": 2
}
