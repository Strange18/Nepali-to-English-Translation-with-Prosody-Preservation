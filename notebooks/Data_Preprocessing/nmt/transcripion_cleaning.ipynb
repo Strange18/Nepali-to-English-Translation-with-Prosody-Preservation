{
 "cells": [
  {
   "cell_type": "markdown",
   "metadata": {},
   "source": [
    "# Cleaning Transcriptions\n"
   ]
  },
  {
   "cell_type": "code",
   "execution_count": 1,
   "metadata": {},
   "outputs": [],
   "source": [
    "import pandas as pd\n",
    "import re"
   ]
  },
  {
   "cell_type": "code",
   "execution_count": 2,
   "metadata": {},
   "outputs": [],
   "source": [
    "df = pd.read_csv('Final.csv')"
   ]
  },
  {
   "cell_type": "code",
   "execution_count": 3,
   "metadata": {},
   "outputs": [
    {
     "data": {
      "text/plain": [
       "\"म यो सम्मानित सदनबाट सम्माननीय अध्यक्षमार्फत्\\u200c नेपाल सरकारको ध्यानाकर्षण गराउन चाहन्छु । यदि राज्य चैं जिम्मेवार हुँदैन भने एउटा नेपाल प्रहरीको जवान जब त्यो ड्युटी सिद्धिएर घर गइसकेपछि जो घटना भो' त्यो घटनापश्चात्\\u200c विभिन्न उपचारको क्रममा चैं हुन सकेन र न्युरोसम्बन्धी उपचार गर्नुपरेको आवश्यकता पर्यो । त्यो कारण त्यो सरकारी हस्पिटलबाट अन्नपूर्ण न्युरोमा \""
      ]
     },
     "execution_count": 3,
     "metadata": {},
     "output_type": "execute_result"
    }
   ],
   "source": [
    "df['Transcription'][2742]"
   ]
  },
  {
   "cell_type": "code",
   "execution_count": 37,
   "metadata": {},
   "outputs": [],
   "source": [
    "\n",
    "def remove_punctuation_and_trim(text):\n",
    "    # Define punctuation marks\n",
    "    nepali_punctuation = r'[।!?,;:.\"\\'|]'  # Add more as needed\n",
    "    # Remove punctuation using regular expression\n",
    "    cleaned_text = re.sub(nepali_punctuation, '', text)\n",
    "    # Trim leading and trailing spaces\n",
    "    cleaned_text = cleaned_text.strip()\n",
    "    return cleaned_text"
   ]
  },
  {
   "cell_type": "code",
   "execution_count": 17,
   "metadata": {},
   "outputs": [],
   "source": [
    "df['Transcription'] = df['Transcription'].apply(remove_punctuation)"
   ]
  },
  {
   "cell_type": "code",
   "execution_count": 18,
   "metadata": {},
   "outputs": [],
   "source": [
    "df.to_csv(\"cleaned_no.csv\",index=False)"
   ]
  },
  {
   "cell_type": "code",
   "execution_count": 19,
   "metadata": {},
   "outputs": [
    {
     "data": {
      "text/plain": [
       "'र उद्योगव्यापरीलाई जुन बढ्दो बैड्डको त्रणले उठ्न दिएको छैन  चर्को ब्याजले यी सबै समस्याहरू र यो पीडामा सरकारको यो साझा कार्यक्रमले पक्कै पनि एउ'"
      ]
     },
     "execution_count": 19,
     "metadata": {},
     "output_type": "execute_result"
    }
   ],
   "source": [
    "df['Transcription'][2807]"
   ]
  },
  {
   "cell_type": "code",
   "execution_count": 38,
   "metadata": {},
   "outputs": [],
   "source": [
    "df2 = pd.read_csv('cleaned.csv')"
   ]
  },
  {
   "cell_type": "code",
   "execution_count": 39,
   "metadata": {},
   "outputs": [],
   "source": [
    "df2['Transcription'] = df2['Transcription'].apply(remove_punctuation_and_trim)"
   ]
  },
  {
   "cell_type": "code",
   "execution_count": 40,
   "metadata": {},
   "outputs": [],
   "source": [
    "df2.to_csv(\"cleaned.csv\",index=False)"
   ]
  },
  {
   "cell_type": "code",
   "execution_count": null,
   "metadata": {},
   "outputs": [],
   "source": []
  }
 ],
 "metadata": {
  "kernelspec": {
   "display_name": "env",
   "language": "python",
   "name": "python3"
  },
  "language_info": {
   "codemirror_mode": {
    "name": "ipython",
    "version": 3
   },
   "file_extension": ".py",
   "mimetype": "text/x-python",
   "name": "python",
   "nbconvert_exporter": "python",
   "pygments_lexer": "ipython3",
   "version": "3.12.3"
  }
 },
 "nbformat": 4,
 "nbformat_minor": 2
}
